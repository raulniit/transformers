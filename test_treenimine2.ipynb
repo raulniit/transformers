{
 "cells": [
  {
   "cell_type": "code",
   "execution_count": 15,
   "id": "1090daa8",
   "metadata": {},
   "outputs": [],
   "source": [
    "# Impordid\n",
    "from src.transformers.models.bert.tokenization_bert import BertTokenizer\n",
    "from src.transformers.models.bert.modeling_bert import BertEmbeddings, BertModel, BertForMaskedLM\n",
    "import torch\n",
    "from estnltk import Text\n",
    "from estnltk.corpus_processing.parse_enc import parse_enc_file_iterator\n",
    "from src.transformers.models.bert.configuration_bert import BertConfig\n",
    "from transformers import AdamW\n",
    "from tqdm.auto import tqdm\n",
    "from transformers import pipeline\n",
    "import numpy as np"
   ]
  },
  {
   "cell_type": "code",
   "execution_count": 16,
   "id": "0473ed42",
   "metadata": {},
   "outputs": [],
   "source": [
    "# Tokeniseerija\n",
    "tokenizer = BertTokenizer(vocab_file = \"vocab_final.txt\", vocab_file_form = \"vocab_form.txt\")"
   ]
  },
  {
   "cell_type": "code",
   "execution_count": 17,
   "id": "1f5ab730",
   "metadata": {},
   "outputs": [
    {
     "name": "stdout",
     "output_type": "stream",
     "text": [
      "CPU times: total: 62.5 ms\n",
      "Wall time: 50 ms\n"
     ]
    }
   ],
   "source": [
    "%%time\n",
    "# Korpus\n",
    "# Loeme tekstid sisse, laseme estnltk-l laused leida ning moodustame lausetest treening- ja testhulg\n",
    "# https://github.com/estnltk/estnltk/blob/main/tutorials/corpus_processing/importing_text_objects_from_corpora.ipynb\n",
    "input_file = \"korpus/estonian_nc17.vert.01\"\n",
    "n = 2 # Mitu teksti korpusesse lugeda\n",
    "korpus = []\n",
    "l = 0\n",
    "for text_obj in parse_enc_file_iterator(input_file):\n",
    "    korpus.append(text_obj)\n",
    "    if l > n:\n",
    "        break\n",
    "    l += 1\n",
    "\n",
    "\n",
    "train_laused = []\n",
    "for tekst in train:\n",
    "    for span in tekst.original_sentences:\n",
    "        train_laused.append(tekst.text[span.start:span.end])\n",
    "        \n",
    "test_laused = []\n",
    "for tekst in test:\n",
    "    for span in tekst.original_sentences:\n",
    "        test_laused.append(tekst.text[span.start:span.end])"
   ]
  },
  {
   "cell_type": "code",
   "execution_count": 18,
   "id": "784de764",
   "metadata": {},
   "outputs": [],
   "source": [
    "# Dataseti loomine dataloaderi jaoks\n",
    "class Dataset(torch.utils.data.Dataset):\n",
    "    def __init__(self, encodings):\n",
    "        self.encodings = encodings\n",
    "    def __len__(self):\n",
    "        return self.encodings[\"input_ids\"].shape[0]\n",
    "    def __getitem__(self, i):\n",
    "        return {key: tensor[i] for key, tensor in self.encodings.items()}"
   ]
  },
  {
   "cell_type": "code",
   "execution_count": 19,
   "id": "b3379d08",
   "metadata": {},
   "outputs": [],
   "source": [
    "# Maskimine ja labelid\n",
    "def mlm(tensor):\n",
    "    labels = tensor.detach().clone()\n",
    "    rand = torch.rand(tensor[:, :, 0].shape)\n",
    "    mask_arr = (rand < 0.15) * (tensor[:, :, 0] > 5)\n",
    "    for i in range(tensor[:, :, 0].shape[0]):\n",
    "        selection = torch.flatten(mask_arr[i].nonzero()).tolist()\n",
    "        selection_masked = torch.where(mask_arr[i] == 0)[0].tolist()\n",
    "        tensor[i, selection] = 4 # [MASK] tokeni ID mõlemas vocabis\n",
    "        labels[i, selection_masked] = -100 # Et mudel arvutaks lossi ainult masked tokenite pealt\n",
    "        \n",
    "    return tensor, labels"
   ]
  },
  {
   "cell_type": "code",
   "execution_count": 27,
   "id": "a9ce39e9",
   "metadata": {},
   "outputs": [],
   "source": [
    "# Andmestiku ettevalmistamine treenimiseks või mudelis kasutamiseks\n",
    "def prepare_data(data):\n",
    "    input_ids = []\n",
    "    mask = []\n",
    "    labels_vorm = []\n",
    "    labels_lemma = []\n",
    "    \n",
    "    sample = tokenizer(data, max_length = 16, padding = \"max_length\", truncation = True, return_tensors = \"pt\")\n",
    "    new_ids, new_labels = mlm(sample.input_ids.detach().clone())\n",
    "    input_ids.append(new_ids)\n",
    "    mask.append(sample.attention_mask)\n",
    "    labels_vorm.append(new_labels[:, :, 1])\n",
    "    labels_lemma.append(new_labels[:, :, 0])\n",
    "    \n",
    "    input_ids = torch.cat(input_ids)\n",
    "    mask = torch.cat(mask)\n",
    "    labels_vorm = torch.cat(labels_vorm)\n",
    "    labels_lemma = torch.cat(labels_lemma)\n",
    "    \n",
    "    encodings = {\n",
    "    \"input_ids\" : input_ids,\n",
    "    \"attention_mask\" : mask,\n",
    "    \"labels_vorm\" : labels_vorm,\n",
    "    \"labels_lemma\" : labels_lemma,\n",
    "    }\n",
    "    \n",
    "    dataset = Dataset(encodings)\n",
    "    return dataset\n",
    "\n",
    "\n",
    "# Dataloaderi loomine mudeli treenimiseks\n",
    "dataloader_train = torch.utils.data.DataLoader(prepare_data(train_laused), batch_size = 16, shuffle = True)"
   ]
  },
  {
   "cell_type": "code",
   "execution_count": 30,
   "id": "6a338193",
   "metadata": {},
   "outputs": [
    {
     "data": {
      "application/vnd.jupyter.widget-view+json": {
       "model_id": "c19de5a33f474ec18fc46bc358c1b8e0",
       "version_major": 2,
       "version_minor": 0
      },
      "text/plain": [
       "  0%|          | 0/2 [00:00<?, ?it/s]"
      ]
     },
     "metadata": {},
     "output_type": "display_data"
    },
    {
     "data": {
      "application/vnd.jupyter.widget-view+json": {
       "model_id": "03b96fa519f3465ab56acb733d196a77",
       "version_major": 2,
       "version_minor": 0
      },
      "text/plain": [
       "  0%|          | 0/2 [00:00<?, ?it/s]"
      ]
     },
     "metadata": {},
     "output_type": "display_data"
    },
    {
     "data": {
      "application/vnd.jupyter.widget-view+json": {
       "model_id": "74bb7c1d34e9406499768281186d00c9",
       "version_major": 2,
       "version_minor": 0
      },
      "text/plain": [
       "  0%|          | 0/2 [00:00<?, ?it/s]"
      ]
     },
     "metadata": {},
     "output_type": "display_data"
    },
    {
     "data": {
      "application/vnd.jupyter.widget-view+json": {
       "model_id": "63b731741de445409a35cb2d9305084c",
       "version_major": 2,
       "version_minor": 0
      },
      "text/plain": [
       "  0%|          | 0/2 [00:00<?, ?it/s]"
      ]
     },
     "metadata": {},
     "output_type": "display_data"
    },
    {
     "data": {
      "application/vnd.jupyter.widget-view+json": {
       "model_id": "99e17e148ee54c108b7cd304b3b7ccef",
       "version_major": 2,
       "version_minor": 0
      },
      "text/plain": [
       "  0%|          | 0/2 [00:00<?, ?it/s]"
      ]
     },
     "metadata": {},
     "output_type": "display_data"
    },
    {
     "name": "stdout",
     "output_type": "stream",
     "text": [
      "CPU times: total: 3min 17s\n",
      "Wall time: 26.3 s\n"
     ]
    }
   ],
   "source": [
    "%%time\n",
    "# Mudeli treenimine\n",
    "\n",
    "config = BertConfig(\n",
    "    vocab_size = tokenizer.vocab_size,\n",
    "    vocab_size_form = tokenizer.vocab_size_form,\n",
    "    tie_word_embeddings = False\n",
    ")\n",
    "\n",
    "model = BertForMaskedLM(config)\n",
    "linear = torch.nn.Linear(tokenizer.vocab_size, tokenizer.vocab_size_form)\n",
    "CE = torch.nn.CrossEntropyLoss()\n",
    "device = torch.device(\"cuda\") if torch.cuda.is_available() else torch.device(\"cpu\")\n",
    "\n",
    "model.to(device)\n",
    "optim = AdamW(model.parameters(), lr = 1e-4)\n",
    "epochs = 5\n",
    "\n",
    "for epoch in range(epochs):\n",
    "    loop = tqdm(dataloader_train, leave = True)\n",
    "    for batch in loop:\n",
    "        optim.zero_grad()\n",
    "        input_ids = batch[\"input_ids\"]\n",
    "        mask = batch[\"attention_mask\"]\n",
    "        labels_vorm = batch[\"labels_vorm\"]\n",
    "        labels_lemma = batch[\"labels_lemma\"]\n",
    "        output_lemma = model(input_ids, attention_mask = mask, labels = labels_lemma)\n",
    "        loss_lemma = CE(output_lemma.logits.view(-1, tokenizer.vocab_size), labels_lemma.view(-1))\n",
    "        output_vorm = linear(output_lemma.logits)\n",
    "        loss_vorm = CE(output_vorm.view(-1, tokenizer.vocab_size_form), labels_vorm.view(-1))\n",
    "        loss = loss_lemma + loss_vorm\n",
    "        loss.backward()\n",
    "        optim.step()\n",
    "        loop.set_description(f\"Epoch: {epoch}\")\n",
    "        loop.set_postfix(loss = loss.item())"
   ]
  },
  {
   "cell_type": "code",
   "execution_count": 35,
   "id": "788ed901",
   "metadata": {},
   "outputs": [
    {
     "data": {
      "text/plain": [
       "tensor([ -100,  -100,  -100,   738,  -100,  -100,  -100,  -100,  -100,  -100,\n",
       "         -100,  -100,  -100,  -100,  -100,  -100,  -100,     9,  -100,  -100,\n",
       "         -100,  -100,   100,  -100,  -100,  -100,  -100,  -100,  -100,  -100,\n",
       "         -100,  -100,  -100,  -100,  -100,  -100,  -100,  -100,  -100,  -100,\n",
       "         -100,  -100,  -100,  -100,  -100,  -100,  -100,  -100,  -100,  -100,\n",
       "         -100,  -100,  -100,  -100,  -100,  -100,  -100,  -100,  -100,  -100,\n",
       "         -100,  -100,  -100,  -100,  -100,  -100,  -100,  -100,  -100,  -100,\n",
       "         -100,  -100,  -100,  -100,  -100,  -100,  -100,  -100,  -100,  -100,\n",
       "         -100,  -100,  -100,  -100,  -100,  -100,  -100,  -100,  -100,  -100,\n",
       "         -100,  -100,  -100,  -100,  -100,  -100,  -100,  -100, 14244,  -100,\n",
       "         2674,  -100,   343,  -100,  -100,  -100,  -100,  -100,    32,  -100,\n",
       "         -100,  -100,  -100,  -100,   693,  -100,  -100,  -100,  -100,  -100,\n",
       "         -100,  -100,    21,  -100,  -100,  -100,  -100,  -100,  -100,  -100,\n",
       "         -100,  -100,  -100,  -100,  -100,  -100,  -100,  -100,  3278,  -100,\n",
       "         -100,  -100,  -100,  -100,  -100,  -100,  -100,  -100,  -100,  -100,\n",
       "         -100,  -100,  -100,  -100,  -100,  -100,  -100,  -100,  -100,  -100,\n",
       "         -100,  -100,  -100,  -100,  -100,  -100,  -100,  -100,  -100,  -100,\n",
       "         -100,  -100,   102,  -100,  2624,  -100,  -100,  -100,  -100,    47,\n",
       "         -100,  -100,  -100,  -100,    40,  -100,  -100,  -100,   127,  -100,\n",
       "         -100,  -100,  -100,  -100,  -100,  -100,  -100,  -100,  -100,  -100,\n",
       "         1643,  -100,  -100,  -100,  -100,  -100,  -100,  -100])"
      ]
     },
     "execution_count": 35,
     "metadata": {},
     "output_type": "execute_result"
    }
   ],
   "source": [
    "output_lemma.logits.size()\n",
    "labels_lemma.view(-1)"
   ]
  },
  {
   "cell_type": "code",
   "execution_count": 23,
   "id": "3f93c2b4",
   "metadata": {},
   "outputs": [
    {
     "data": {
      "application/vnd.jupyter.widget-view+json": {
       "model_id": "7b94ae871fe644ffb316782604223829",
       "version_major": 2,
       "version_minor": 0
      },
      "text/plain": [
       "  0%|          | 0/2 [00:00<?, ?it/s]"
      ]
     },
     "metadata": {},
     "output_type": "display_data"
    }
   ],
   "source": [
    "# Testimine\n",
    "dataloader_test = torch.utils.data.DataLoader(prepare_data(test_laused), batch_size = 16)\n",
    "kokku_labelid_vorm = np.array([-1])\n",
    "kokku_labelid_lemma = np.array([-1])\n",
    "kokku_ennustused_vorm = np.array([-1])\n",
    "kokku_ennustused_lemma = np.array([-1])\n",
    "#loop2 = tqdm(dataloader_test, leave = True) # Testandmed\n",
    "loop2 = tqdm(dataloader_train, leave = True) # Treeningandmetel võiks accuracy tulla 1 kui epocheid piisavalt\n",
    "for batch in loop2:\n",
    "    input_ids = batch[\"input_ids\"]\n",
    "    labels_vorm = batch[\"labels_vorm\"]\n",
    "    labels_lemma = batch[\"labels_lemma\"]\n",
    "    \n",
    "    output_lemma = model(input_ids).logits\n",
    "    output_vorm = linear(output_lemma)\n",
    "    indeksid = np.where(input_ids[:, :, 0].flatten() == 4)\n",
    "    labels_vorm = labels_vorm.flatten()[indeksid].detach().numpy()\n",
    "    labels_lemma = labels_lemma.flatten()[indeksid].detach().numpy()\n",
    "    ennustused_vorm = np.argmax(output_vorm.flatten(end_dim = 1)[indeksid].detach().numpy(), axis = 1)\n",
    "    ennustused_lemma = np.argmax(output_lemma.flatten(end_dim = 1)[indeksid].detach().numpy(), axis = 1)\n",
    "    \n",
    "    kokku_labelid_vorm = np.concatenate((kokku_labelid_vorm, labels_vorm))\n",
    "    kokku_labelid_lemma = np.concatenate((kokku_labelid_lemma, labels_lemma))\n",
    "    \n",
    "    kokku_ennustused_vorm = np.concatenate((kokku_ennustused_vorm, ennustused_vorm))\n",
    "    kokku_ennustused_lemma = np.concatenate((kokku_ennustused_lemma, ennustused_lemma))"
   ]
  },
  {
   "cell_type": "code",
   "execution_count": 24,
   "id": "95b9331b",
   "metadata": {},
   "outputs": [
    {
     "data": {
      "text/plain": [
       "array([   -1,  2301, 36236,     6,   343, 14244, 14244,    10,  3277,\n",
       "         343, 14244, 20631,   493,  2624,   426,  4119, 36246,    24,\n",
       "          58,    14,    35,   303,    24,   154,   142,    39,     7,\n",
       "         603,  4897, 14240,     8,     8,    29,    10,  1642,   764,\n",
       "         937,   674,  3798, 19150,  1642,   905,  4117,  3202,  2012,\n",
       "          14,    28,   227,   590,     6,   998,     7,    40,  2903,\n",
       "           7,   336,   823,   686,  1082,  3276,  2256,   408,  1843,\n",
       "        1646,   133, 36248,  2352,   546, 36250,  4481,     6,  2301,\n",
       "           6,    82,  1203], dtype=int64)"
      ]
     },
     "execution_count": 24,
     "metadata": {},
     "output_type": "execute_result"
    }
   ],
   "source": [
    "kokku_labelid_vorm\n",
    "kokku_labelid_lemma"
   ]
  },
  {
   "cell_type": "code",
   "execution_count": 25,
   "id": "f2ae4d1c",
   "metadata": {},
   "outputs": [
    {
     "data": {
      "text/plain": [
       "array([   -1, 14244, 14244, 14244, 14244, 14244, 14244, 14244, 14244,\n",
       "       14244, 14244, 14244, 14244, 14244, 14244, 14244, 14244, 14244,\n",
       "       14244, 14244, 14244, 14244, 14244, 14244, 14244, 14244, 14244,\n",
       "       14244, 14244, 14244, 14244, 14244, 14244, 14244, 14244, 14244,\n",
       "       14244, 14244, 14244, 14244, 14244, 14244, 14244, 14244, 14244,\n",
       "       14244, 14244, 14244, 14244, 14244, 14244, 14244, 14244, 14244,\n",
       "       14244, 14244, 14244, 14244, 14244, 14244, 14244, 14244, 14244,\n",
       "       14244, 14244, 14244, 14244, 14244, 14244, 14244, 14244, 14244,\n",
       "       14244, 14244, 14244], dtype=int64)"
      ]
     },
     "execution_count": 25,
     "metadata": {},
     "output_type": "execute_result"
    }
   ],
   "source": [
    "kokku_ennustused_vorm\n",
    "kokku_ennustused_lemma"
   ]
  },
  {
   "cell_type": "code",
   "execution_count": 26,
   "id": "43bb86a2",
   "metadata": {},
   "outputs": [
    {
     "data": {
      "text/plain": [
       "0.04054054054054054"
      ]
     },
     "execution_count": 26,
     "metadata": {},
     "output_type": "execute_result"
    }
   ],
   "source": [
    "sum(kokku_ennustused_vorm[1:] == kokku_labelid_vorm[1:])/len(kokku_labelid_vorm[1:])\n",
    "sum(kokku_ennustused_lemma[1:] == kokku_labelid_lemma[1:])/len(kokku_labelid_lemma[1:])"
   ]
  },
  {
   "cell_type": "code",
   "execution_count": 13,
   "id": "219fb4a4",
   "metadata": {},
   "outputs": [],
   "source": [
    "#torch.save(model, \"mudel.pth\")"
   ]
  }
 ],
 "metadata": {
  "kernelspec": {
   "display_name": "Python 3 (ipykernel)",
   "language": "python",
   "name": "python3"
  },
  "language_info": {
   "codemirror_mode": {
    "name": "ipython",
    "version": 3
   },
   "file_extension": ".py",
   "mimetype": "text/x-python",
   "name": "python",
   "nbconvert_exporter": "python",
   "pygments_lexer": "ipython3",
   "version": "3.8.13"
  }
 },
 "nbformat": 4,
 "nbformat_minor": 5
}
