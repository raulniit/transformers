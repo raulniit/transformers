{
 "cells": [
  {
   "cell_type": "code",
   "execution_count": 1,
   "id": "1090daa8",
   "metadata": {},
   "outputs": [],
   "source": [
    "# Impordid\n",
    "from src.transformers.models.bert.tokenization_bert import BertTokenizer\n",
    "from src.transformers.models.bert.modeling_bert import BertEmbeddings, BertModel, BertForMaskedLM\n",
    "import torch\n",
    "from estnltk import Text\n",
    "from estnltk.corpus_processing.parse_enc import parse_enc_file_iterator\n",
    "from src.transformers.models.bert.configuration_bert import BertConfig\n",
    "from transformers import AdamW\n",
    "from tqdm.auto import tqdm\n",
    "from transformers import pipeline\n",
    "import numpy as np"
   ]
  },
  {
   "cell_type": "code",
   "execution_count": 2,
   "id": "0473ed42",
   "metadata": {},
   "outputs": [],
   "source": [
    "# Tokeniseerija\n",
    "tokenizer = BertTokenizer(vocab_file = \"vocab_final.txt\", vocab_file_form = \"vocab_form.txt\")"
   ]
  },
  {
   "cell_type": "code",
   "execution_count": 3,
   "id": "1f5ab730",
   "metadata": {},
   "outputs": [
    {
     "name": "stdout",
     "output_type": "stream",
     "text": [
      "CPU times: total: 500 ms\n",
      "Wall time: 509 ms\n"
     ]
    }
   ],
   "source": [
    "%%time\n",
    "# Korpus\n",
    "# Loeme tekstid sisse, laseme estnltk-l laused leida ning moodustame lausetest treening- ja testhulg\n",
    "# https://github.com/estnltk/estnltk/blob/main/tutorials/corpus_processing/importing_text_objects_from_corpora.ipynb\n",
    "input_file = \"korpus/estonian_nc17.vert.01\"\n",
    "n = 2 # Mitu teksti korpusesse lugeda\n",
    "korpus = []\n",
    "l = 0\n",
    "for text_obj in parse_enc_file_iterator(input_file):\n",
    "    korpus.append(text_obj.text)\n",
    "    if l > n:\n",
    "        break\n",
    "    l += 1\n",
    "\n",
    "tekst = Text(\" \".join(korpus)).tag_layer()\n",
    "laused = []\n",
    "for span in tekst.sentences:\n",
    "    laused.append(tekst.text[span.start:span.end])\n",
    "train =  laused[:int(0.8*len(laused))]\n",
    "test = laused[int(0.8*len(laused)):]"
   ]
  },
  {
   "cell_type": "code",
   "execution_count": 4,
   "id": "784de764",
   "metadata": {},
   "outputs": [],
   "source": [
    "# Dataseti loomine dataloaderi jaoks\n",
    "class Dataset(torch.utils.data.Dataset):\n",
    "    def __init__(self, encodings):\n",
    "        self.encodings = encodings\n",
    "    def __len__(self):\n",
    "        return self.encodings[\"input_ids\"].shape[0]\n",
    "    def __getitem__(self, i):\n",
    "        return {key: tensor[i] for key, tensor in self.encodings.items()}"
   ]
  },
  {
   "cell_type": "code",
   "execution_count": 5,
   "id": "023e8ec8",
   "metadata": {},
   "outputs": [],
   "source": [
    "sample = tokenizer(train[0:2], max_length = 8, padding = \"max_length\", truncation = True, return_tensors = \"pt\")\n",
    "tensor = sample.input_ids.detach().clone()\n",
    "labels = tensor.detach().clone()\n",
    "rand = torch.rand(tensor[:, :, 0].shape)\n",
    "mask_arr = (rand < 0.15) * (tensor[:, :, 0] > 5)\n",
    "for i in range(tensor[:, :, 0].shape[0]):\n",
    "    selection = torch.flatten(mask_arr[i].nonzero()).tolist()\n",
    "    selection_masked = torch.where(mask_arr[i] == 0)[0].tolist()\n",
    "    tensor[i, selection] = 4 # [MASK] tokeni ID mõlemas vocabis\n",
    "    labels[i, selection_masked] = -100 # Et mudel arvutaks lossi ainult masked tokenite pealt"
   ]
  },
  {
   "cell_type": "code",
   "execution_count": 6,
   "id": "b3379d08",
   "metadata": {},
   "outputs": [],
   "source": [
    "# Maskimine ja labelid\n",
    "def mlm(tensor):\n",
    "    labels = tensor.detach().clone()\n",
    "    rand = torch.rand(tensor[:, :, 0].shape)\n",
    "    mask_arr = (rand < 0.15) * (tensor[:, :, 0] > 5)\n",
    "    for i in range(tensor[:, :, 0].shape[0]):\n",
    "        selection = torch.flatten(mask_arr[i].nonzero()).tolist()\n",
    "        selection_masked = torch.where(mask_arr[i] == 0)[0].tolist()\n",
    "        tensor[i, selection] = 4 # [MASK] tokeni ID mõlemas vocabis\n",
    "        labels[i, selection_masked] = -100 # Et mudel arvutaks lossi ainult masked tokenite pealt\n",
    "        \n",
    "    return tensor, labels"
   ]
  },
  {
   "cell_type": "code",
   "execution_count": 7,
   "id": "a9ce39e9",
   "metadata": {},
   "outputs": [],
   "source": [
    "# Andmestiku ettevalmistamine treenimiseks või mudelis kasutamiseks\n",
    "def prepare_data(data):\n",
    "    input_ids = []\n",
    "    mask = []\n",
    "    labels_vorm = []\n",
    "    labels_lemma = []\n",
    "    \n",
    "    sample = tokenizer(data, max_length = 128, padding = \"max_length\", truncation = True, return_tensors = \"pt\")\n",
    "    new_ids, new_labels = mlm(sample.input_ids.detach().clone())\n",
    "    input_ids.append(new_ids)\n",
    "    mask.append(sample.attention_mask)\n",
    "    labels_vorm.append(new_labels[:, :, 1])\n",
    "    labels_lemma.append(new_labels[:, :, 0])\n",
    "    \n",
    "    input_ids = torch.cat(input_ids)\n",
    "    mask = torch.cat(mask)\n",
    "    labels_vorm = torch.cat(labels_vorm)\n",
    "    labels_lemma = torch.cat(labels_lemma)\n",
    "    \n",
    "    encodings = {\n",
    "    \"input_ids\" : input_ids,\n",
    "    \"attention_mask\" : mask,\n",
    "    \"labels_vorm\" : labels_vorm,\n",
    "    \"labels_lemma\" : labels_lemma,\n",
    "    }\n",
    "    \n",
    "    dataset = Dataset(encodings)\n",
    "    return dataset\n",
    "\n",
    "\n",
    "# Dataloaderi loomine mudeli treenimiseks\n",
    "dataloader_train = torch.utils.data.DataLoader(prepare_data(train), batch_size = 16, shuffle = True)"
   ]
  },
  {
   "cell_type": "code",
   "execution_count": 15,
   "id": "6a338193",
   "metadata": {},
   "outputs": [
    {
     "data": {
      "application/vnd.jupyter.widget-view+json": {
       "model_id": "80162dfb6c98486eb388d7ee306ee8df",
       "version_major": 2,
       "version_minor": 0
      },
      "text/plain": [
       "  0%|          | 0/2 [00:00<?, ?it/s]"
      ]
     },
     "metadata": {},
     "output_type": "display_data"
    },
    {
     "name": "stdout",
     "output_type": "stream",
     "text": [
      "torch.Size([16, 128, 780])\n",
      "torch.Size([12, 128, 780])\n"
     ]
    },
    {
     "data": {
      "application/vnd.jupyter.widget-view+json": {
       "model_id": "24a211747b7b479397dd7eb8daffae9d",
       "version_major": 2,
       "version_minor": 0
      },
      "text/plain": [
       "  0%|          | 0/2 [00:00<?, ?it/s]"
      ]
     },
     "metadata": {},
     "output_type": "display_data"
    },
    {
     "name": "stdout",
     "output_type": "stream",
     "text": [
      "torch.Size([16, 128, 780])\n",
      "torch.Size([12, 128, 780])\n",
      "CPU times: total: 7min 8s\n",
      "Wall time: 55.9 s\n"
     ]
    }
   ],
   "source": [
    "%%time\n",
    "# Mudeli treenimine\n",
    "\n",
    "config = BertConfig(\n",
    "    vocab_size = tokenizer.vocab_size,\n",
    "    vocab_size_form = tokenizer.vocab_size_form,\n",
    "    tie_word_embeddings = False\n",
    ")\n",
    "\n",
    "model = BertForMaskedLM(config)\n",
    "linear = torch.nn.Linear(tokenizer.vocab_size, tokenizer.vocab_size_form)\n",
    "CE = torch.nn.CrossEntropyLoss()\n",
    "device = torch.device(\"cuda\") if torch.cuda.is_available() else torch.device(\"cpu\")\n",
    "\n",
    "model.to(device)\n",
    "optim = AdamW(model.parameters(), lr = 1e-4)\n",
    "epochs = 2\n",
    "\n",
    "for epoch in range(epochs):\n",
    "    loop = tqdm(dataloader_train, leave = True)\n",
    "    for batch in loop:\n",
    "        optim.zero_grad()\n",
    "        input_ids = batch[\"input_ids\"]\n",
    "        mask = batch[\"attention_mask\"]\n",
    "        labels_vorm = batch[\"labels_vorm\"]\n",
    "        labels_lemma = batch[\"labels_lemma\"]\n",
    "        output_lemma = model(input_ids, attention_mask = mask, labels = labels_lemma)\n",
    "        loss_lemma = CE(output_lemma.logits.view(-1, tokenizer.vocab_size), labels_lemma.view(-1))\n",
    "        output_vorm = linear(output_lemma.logits)\n",
    "        loss_vorm = CE(output_vorm.view(-1, tokenizer.vocab_size_form), labels_vorm.view(-1))\n",
    "        loss = loss_lemma + loss_vorm\n",
    "        loss.backward()\n",
    "        optim.step()\n",
    "        loop.set_description(f\"Epoch: {epoch}\")\n",
    "        loop.set_postfix(loss = loss.item())"
   ]
  },
  {
   "cell_type": "code",
   "execution_count": 19,
   "id": "2938c541",
   "metadata": {},
   "outputs": [
    {
     "data": {
      "text/plain": [
       "torch.Size([12, 128, 50005])"
      ]
     },
     "execution_count": 19,
     "metadata": {},
     "output_type": "execute_result"
    }
   ],
   "source": [
    "output_lemma.logits.size()"
   ]
  },
  {
   "cell_type": "code",
   "execution_count": 10,
   "id": "3f93c2b4",
   "metadata": {},
   "outputs": [
    {
     "data": {
      "application/vnd.jupyter.widget-view+json": {
       "model_id": "9d4d6918cf244e5d86cf5b073181b77c",
       "version_major": 2,
       "version_minor": 0
      },
      "text/plain": [
       "  0%|          | 0/2 [00:00<?, ?it/s]"
      ]
     },
     "metadata": {},
     "output_type": "display_data"
    },
    {
     "name": "stdout",
     "output_type": "stream",
     "text": [
      "torch.Size([16, 128, 780])\n",
      "torch.Size([12, 128, 780])\n"
     ]
    }
   ],
   "source": [
    "# Testimine\n",
    "dataloader_test = torch.utils.data.DataLoader(prepare_data(test), batch_size = 16)\n",
    "kokku_labelid_vorm = np.array([-1])\n",
    "kokku_labelid_lemma = np.array([-1])\n",
    "kokku_ennustused_vorm = np.array([-1])\n",
    "kokku_ennustused_lemma = np.array([-1])\n",
    "#loop2 = tqdm(dataloader_test, leave = True) # Testandmed\n",
    "loop2 = tqdm(dataloader_train, leave = True) # Treeningandmetel võiks accuracy tulla 1 kui epocheid piisavalt\n",
    "for batch in loop2:\n",
    "    input_ids = batch[\"input_ids\"]\n",
    "    labels_vorm = batch[\"labels_vorm\"]\n",
    "    labels_lemma = batch[\"labels_lemma\"]\n",
    "    \n",
    "    output_lemma = model(input_ids).logits\n",
    "    output_vorm = linear(output_lemma)\n",
    "    indeksid = np.where(input_ids[:, :, 0].flatten() == 4)\n",
    "    labels_vorm = labels_vorm.flatten()[indeksid].detach().numpy()\n",
    "    labels_lemma = labels_lemma.flatten()[indeksid].detach().numpy()\n",
    "    ennustused_vorm = np.argmax(output_vorm.flatten(end_dim = 1)[indeksid].detach().numpy(), axis = 1)\n",
    "    ennustused_lemma = np.argmax(output_lemma.flatten(end_dim = 1)[indeksid].detach().numpy(), axis = 1)\n",
    "    \n",
    "    kokku_labelid_vorm = np.concatenate((kokku_labelid_vorm, labels_vorm))\n",
    "    kokku_labelid_lemma = np.concatenate((kokku_labelid_lemma, labels_lemma))\n",
    "    \n",
    "    kokku_ennustused_vorm = np.concatenate((kokku_ennustused_vorm, ennustused_vorm))\n",
    "    kokku_ennustused_lemma = np.concatenate((kokku_ennustused_lemma, ennustused_lemma))"
   ]
  },
  {
   "cell_type": "code",
   "execution_count": 11,
   "id": "95b9331b",
   "metadata": {},
   "outputs": [
    {
     "data": {
      "text/plain": [
       "array([   -1,  1991,     6,  2051,   247, 11020,     6,   380, 37968,\n",
       "           8,    89,   303,   523,    25,  2800,  1378,  8419,     6,\n",
       "       10872,   251,   119,     8,  2019,  1009,   184,   588,     6,\n",
       "         101,   263,  2894, 12219, 45401, 23473,    54,    25,    55,\n",
       "         425,    25,    55, 23473,   139,   313,  3043,  1037,    55,\n",
       "        2868,  8500,    78,    51,     6,   200, 19765,   487,     8,\n",
       "         447,    51,   346,  6051,   207,    52,  2818], dtype=int64)"
      ]
     },
     "execution_count": 11,
     "metadata": {},
     "output_type": "execute_result"
    }
   ],
   "source": [
    "kokku_labelid_vorm\n",
    "kokku_labelid_lemma"
   ]
  },
  {
   "cell_type": "code",
   "execution_count": 12,
   "id": "f2ae4d1c",
   "metadata": {},
   "outputs": [
    {
     "data": {
      "text/plain": [
       "array([-1, 55, 55, 55, 55, 55,  8, 55, 55,  8, 55, 55, 55, 55, 55, 55, 55,\n",
       "        8, 55, 55, 55, 55, 55, 55, 55, 55, 55, 55, 55, 55, 55, 55, 55, 55,\n",
       "       55, 55, 55, 55, 55, 55, 55, 55, 55, 55, 55, 55, 55, 55, 55, 55,  8,\n",
       "       55, 55, 55, 55, 55, 55, 55,  8, 55, 55], dtype=int64)"
      ]
     },
     "execution_count": 12,
     "metadata": {},
     "output_type": "execute_result"
    }
   ],
   "source": [
    "kokku_ennustused_vorm\n",
    "kokku_ennustused_lemma"
   ]
  },
  {
   "cell_type": "code",
   "execution_count": 13,
   "id": "43bb86a2",
   "metadata": {},
   "outputs": [
    {
     "data": {
      "text/plain": [
       "0.06666666666666667"
      ]
     },
     "execution_count": 13,
     "metadata": {},
     "output_type": "execute_result"
    }
   ],
   "source": [
    "sum(kokku_ennustused_vorm[1:] == kokku_labelid_vorm[1:])/len(kokku_labelid_vorm[1:])\n",
    "sum(kokku_ennustused_lemma[1:] == kokku_labelid_lemma[1:])/len(kokku_labelid_lemma[1:])"
   ]
  },
  {
   "cell_type": "code",
   "execution_count": null,
   "id": "219fb4a4",
   "metadata": {},
   "outputs": [],
   "source": [
    "#torch.save(model, \"mudel.pth\")"
   ]
  }
 ],
 "metadata": {
  "kernelspec": {
   "display_name": "Python 3 (ipykernel)",
   "language": "python",
   "name": "python3"
  },
  "language_info": {
   "codemirror_mode": {
    "name": "ipython",
    "version": 3
   },
   "file_extension": ".py",
   "mimetype": "text/x-python",
   "name": "python",
   "nbconvert_exporter": "python",
   "pygments_lexer": "ipython3",
   "version": "3.8.13"
  }
 },
 "nbformat": 4,
 "nbformat_minor": 5
}
