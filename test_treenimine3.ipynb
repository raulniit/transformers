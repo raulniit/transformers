{
 "cells": [
  {
   "cell_type": "code",
   "execution_count": 1,
   "id": "1090daa8",
   "metadata": {},
   "outputs": [],
   "source": [
    "# Impordid\n",
    "from src.transformers.models.bert.tokenization_bert import BertTokenizer\n",
    "from src.transformers.models.bert.modeling_bert import BertEmbeddings, BertForPreTraining, BertForMaskedLM\n",
    "from src.transformers.data.datasets import TextDatasetForNextSentencePrediction\n",
    "import torch\n",
    "from estnltk import Text\n",
    "from estnltk.corpus_processing.parse_enc import parse_enc_file_iterator\n",
    "from src.transformers.models.bert.configuration_bert import BertConfig\n",
    "from transformers import AdamW\n",
    "from tqdm.auto import tqdm\n",
    "import numpy as np"
   ]
  },
  {
   "cell_type": "code",
   "execution_count": 2,
   "id": "0473ed42",
   "metadata": {},
   "outputs": [],
   "source": [
    "# Tokeniseerija\n",
    "tokenizer = BertTokenizer(vocab_file = \"vocab_final.txt\", vocab_file_form = \"vocab_form.txt\")"
   ]
  },
  {
   "cell_type": "code",
   "execution_count": 3,
   "id": "1f5ab730",
   "metadata": {},
   "outputs": [
    {
     "name": "stdout",
     "output_type": "stream",
     "text": [
      "CPU times: total: 78.1 ms\n",
      "Wall time: 53 ms\n"
     ]
    }
   ],
   "source": [
    "%%time\n",
    "# Korpus\n",
    "# Loeme tekstid sisse, laseme estnltk-l laused leida ning moodustame lausetest treening- ja testhulg\n",
    "# https://github.com/estnltk/estnltk/blob/main/tutorials/corpus_processing/importing_text_objects_from_corpora.ipynb\n",
    "input_file = \"korpus/estonian_nc17.vert.01\"\n",
    "n = 2 # Mitu teksti korpusesse lugeda\n",
    "korpus = []\n",
    "l = 0\n",
    "for text_obj in parse_enc_file_iterator(input_file):\n",
    "    korpus.append(text_obj)\n",
    "    if l > n:\n",
    "        break\n",
    "    l += 1\n",
    "\n",
    "    \n",
    "train =  korpus[:int(0.8*len(korpus))]\n",
    "test = korpus[int(0.8*len(korpus)):]\n",
    "\n",
    "laused = []\n",
    "for tekst in train:\n",
    "    for span in tekst.original_sentences:\n",
    "        laused.append(tekst.text[span.start:span.end])"
   ]
  },
  {
   "cell_type": "code",
   "execution_count": 4,
   "id": "f01d4777",
   "metadata": {},
   "outputs": [],
   "source": [
    "# https://towardsdatascience.com/how-to-train-bert-aaad00533168\n",
    "# NSP lausete loomine\n",
    "laused_len = len(laused)\n",
    "\n",
    "import random\n",
    "\n",
    "lause_a = []\n",
    "lause_b = []\n",
    "label_nsp = []\n",
    "\n",
    "for tekst in train:\n",
    "    laused_tekst = [tekst.text[span.start:span.end] for span in tekst.original_sentences]\n",
    "    laused_tekst_len = len(laused_tekst)\n",
    "    if laused_tekst_len > 1:\n",
    "        start = random.randint(0, laused_tekst_len-2)\n",
    "        # 50/50 whether is IsNextSentence or NotNextSentence\n",
    "        if random.random() >= 0.5:\n",
    "            # this is IsNextSentence\n",
    "            lause_a.append(laused_tekst[start])\n",
    "            lause_b.append(laused_tekst[start+1])\n",
    "            label_nsp.append(0)\n",
    "        else:\n",
    "            index = random.randint(0, laused_len-1)\n",
    "            # this is NotNextSentence\n",
    "            lause_a.append(laused_tekst[start])\n",
    "            lause_b.append(laused[index])\n",
    "            label_nsp.append(1)"
   ]
  },
  {
   "cell_type": "code",
   "execution_count": 5,
   "id": "402b93a9",
   "metadata": {},
   "outputs": [
    {
     "data": {
      "text/plain": [
       "['Seejärel tekkisid ehitajal kohtuvaidlused ühe kinnistu õigusjärgse omanikuga ja kogu ehitus jäi seisma.',\n",
       " 'Kinnistu suurus on 8745 ruutmeetrist, maa sihtotstarve on seni olnud riigikaitsemaa.',\n",
       " 'EFÜ korraldab muusikaauhindade jagamist juba neljandat aastat.']"
      ]
     },
     "execution_count": 5,
     "metadata": {},
     "output_type": "execute_result"
    }
   ],
   "source": [
    "lause_a"
   ]
  },
  {
   "cell_type": "code",
   "execution_count": 15,
   "id": "4bbec8a6",
   "metadata": {},
   "outputs": [],
   "source": [
    "# Tokeniseerimine ja maskimine\n",
    "inputs = tokenizer(lause_a, lause_b, max_length=128, truncation=True, padding='max_length', return_tensors='pt')\n",
    "inputs['next_sentence_label'] = torch.LongTensor([label_nsp]).T\n",
    "labels_mlm = inputs.input_ids.detach().clone()[:, :, 0]\n",
    "rand = torch.rand(inputs.input_ids[:, :, 0].shape)\n",
    "mask_arr = (rand < 0.15) * (inputs.input_ids[:, :, 0] > 5)\n",
    "for i in range(inputs.input_ids[:, :, 0].shape[0]):\n",
    "    selection = torch.flatten(mask_arr[i].nonzero()).tolist()\n",
    "    selection_masked = torch.where(mask_arr[i] == 0)[0].tolist()\n",
    "    inputs.input_ids[i, selection] = 4 # [MASK] tokeni ID mõlemas vocabis\n",
    "    labels_mlm[i, selection_masked] = -100 # Et mudel arvutaks lossi ainult masked tokenite pealt\n",
    "inputs[\"labels\"] = labels_mlm"
   ]
  },
  {
   "cell_type": "code",
   "execution_count": 16,
   "id": "fe562c28",
   "metadata": {},
   "outputs": [
    {
     "data": {
      "text/plain": [
       "tensor([[ -100,   603,  -100,  -100,  -100,  -100,  2301,  -100,   531,  -100,\n",
       "          -100,  -100,  -100,  -100,  -100,  -100,  -100,  -100,  -100,  -100,\n",
       "          -100,  -100,  -100,  -100,  7296,  -100,  -100,  -100,  -100,  -100,\n",
       "          -100,  -100,  -100,  -100,  -100,  -100,  -100,  -100,  -100,  -100,\n",
       "          -100,  -100,  -100,  -100,  -100,  -100,  -100,  -100,  -100,  -100,\n",
       "          -100,  -100,  -100,  -100,  -100,  -100,  -100,  -100,  -100,  -100,\n",
       "          -100,  -100,  -100,  -100,  -100,  -100,  -100,  -100,  -100,  -100,\n",
       "          -100,  -100,  -100,  -100,  -100,  -100,  -100,  -100,  -100,  -100,\n",
       "          -100,  -100,  -100,  -100,  -100,  -100,  -100,  -100,  -100,  -100,\n",
       "          -100,  -100,  -100,  -100,  -100,  -100,  -100,  -100,  -100,  -100,\n",
       "          -100,  -100,  -100,  -100,  -100,  -100,  -100,  -100,  -100,  -100,\n",
       "          -100,  -100,  -100,  -100,  -100,  -100,  -100,  -100,  -100,  -100,\n",
       "          -100,  -100,  -100,  -100,  -100,  -100,  -100,  -100],\n",
       "        [ -100,  -100,  -100,  -100,  -100,  -100,  -100,  -100,  -100,  -100,\n",
       "          -100,  -100, 36236,     6,  -100,  -100,  -100,   738,  -100,    58,\n",
       "          -100, 26056,  -100,  -100,  -100,   835,  -100,  -100,  -100,  -100,\n",
       "          -100,  -100,  5422,  -100,  -100,  -100,   172,  -100,  -100,  -100,\n",
       "          -100,  -100,  -100,  -100,  -100,  -100,  -100,  -100,  -100,  -100,\n",
       "          -100,  -100,  -100,  -100,  -100,  -100,  -100,  -100,  -100,  -100,\n",
       "          -100,  -100,  -100,  -100,  -100,  -100,  -100,  -100,  -100,  -100,\n",
       "          -100,  -100,  -100,  -100,  -100,  -100,  -100,  -100,  -100,  -100,\n",
       "          -100,  -100,  -100,  -100,  -100,  -100,  -100,  -100,  -100,  -100,\n",
       "          -100,  -100,  -100,  -100,  -100,  -100,  -100,  -100,  -100,  -100,\n",
       "          -100,  -100,  -100,  -100,  -100,  -100,  -100,  -100,  -100,  -100,\n",
       "          -100,  -100,  -100,  -100,  -100,  -100,  -100,  -100,  -100,  -100,\n",
       "          -100,  -100,  -100,  -100,  -100,  -100,  -100,  -100],\n",
       "        [ -100,  -100,  -100,  -100,  2210,  -100,  -100,    24,  -100,  -100,\n",
       "          -100,  -100,  -100,  -100,  -100,  -100,   102,  -100,  -100,  -100,\n",
       "          -100,  1301,  -100,  -100,  -100,  -100,  -100,  -100,  -100,  -100,\n",
       "          -100,  -100,  -100,  -100,  -100,  -100,  -100,  -100,  -100,  -100,\n",
       "          -100,  -100,  -100,  -100,  -100,  -100,  -100,  -100,  -100,  -100,\n",
       "          -100,  -100,  -100,  -100,  -100,  -100,  -100,  -100,  -100,  -100,\n",
       "          -100,  -100,  -100,  -100,  -100,  -100,  -100,  -100,  -100,  -100,\n",
       "          -100,  -100,  -100,  -100,  -100,  -100,  -100,  -100,  -100,  -100,\n",
       "          -100,  -100,  -100,  -100,  -100,  -100,  -100,  -100,  -100,  -100,\n",
       "          -100,  -100,  -100,  -100,  -100,  -100,  -100,  -100,  -100,  -100,\n",
       "          -100,  -100,  -100,  -100,  -100,  -100,  -100,  -100,  -100,  -100,\n",
       "          -100,  -100,  -100,  -100,  -100,  -100,  -100,  -100,  -100,  -100,\n",
       "          -100,  -100,  -100,  -100,  -100,  -100,  -100,  -100]])"
      ]
     },
     "execution_count": 16,
     "metadata": {},
     "output_type": "execute_result"
    }
   ],
   "source": [
    "inputs.labels"
   ]
  },
  {
   "cell_type": "code",
   "execution_count": 17,
   "id": "784de764",
   "metadata": {},
   "outputs": [],
   "source": [
    "# Dataseti loomine dataloaderi jaoks\n",
    "class UusDataset(torch.utils.data.Dataset):\n",
    "    def __init__(self, encodings):\n",
    "        self.encodings = encodings\n",
    "    def __getitem__(self, i):\n",
    "        return {key: tensor[i] for key, tensor in self.encodings.items()}\n",
    "    def __len__(self):\n",
    "        return len(self.encodings.input_ids)"
   ]
  },
  {
   "cell_type": "code",
   "execution_count": 18,
   "id": "a9ce39e9",
   "metadata": {},
   "outputs": [],
   "source": [
    "dataloader_train = torch.utils.data.DataLoader(UusDataset(inputs), batch_size = 32, shuffle = True)"
   ]
  },
  {
   "cell_type": "code",
   "execution_count": 19,
   "id": "6a338193",
   "metadata": {},
   "outputs": [
    {
     "data": {
      "application/vnd.jupyter.widget-view+json": {
       "model_id": "6216e1e68ee24c7a83918770ae8f7e73",
       "version_major": 2,
       "version_minor": 0
      },
      "text/plain": [
       "  0%|          | 0/1 [00:00<?, ?it/s]"
      ]
     },
     "metadata": {},
     "output_type": "display_data"
    },
    {
     "data": {
      "application/vnd.jupyter.widget-view+json": {
       "model_id": "ad7fe78bedb8406b80a180150f4f27be",
       "version_major": 2,
       "version_minor": 0
      },
      "text/plain": [
       "  0%|          | 0/1 [00:00<?, ?it/s]"
      ]
     },
     "metadata": {},
     "output_type": "display_data"
    },
    {
     "data": {
      "application/vnd.jupyter.widget-view+json": {
       "model_id": "a2f5b15764964b948641b78fbd8f44ac",
       "version_major": 2,
       "version_minor": 0
      },
      "text/plain": [
       "  0%|          | 0/1 [00:00<?, ?it/s]"
      ]
     },
     "metadata": {},
     "output_type": "display_data"
    },
    {
     "data": {
      "application/vnd.jupyter.widget-view+json": {
       "model_id": "813485d98cc346d887b03a3074ff3b9b",
       "version_major": 2,
       "version_minor": 0
      },
      "text/plain": [
       "  0%|          | 0/1 [00:00<?, ?it/s]"
      ]
     },
     "metadata": {},
     "output_type": "display_data"
    },
    {
     "data": {
      "application/vnd.jupyter.widget-view+json": {
       "model_id": "637829ccb5b34439aa52e41b5f0708d5",
       "version_major": 2,
       "version_minor": 0
      },
      "text/plain": [
       "  0%|          | 0/1 [00:00<?, ?it/s]"
      ]
     },
     "metadata": {},
     "output_type": "display_data"
    },
    {
     "name": "stdout",
     "output_type": "stream",
     "text": [
      "CPU times: total: 2min 17s\n",
      "Wall time: 18.8 s\n"
     ]
    }
   ],
   "source": [
    "%%time\n",
    "# Mudeli treenimine\n",
    "\n",
    "config = BertConfig(\n",
    "    vocab_size = tokenizer.vocab_size,\n",
    "    vocab_size_form = tokenizer.vocab_size_form,\n",
    "    tie_word_embeddings = False\n",
    ")\n",
    "\n",
    "model = BertForPreTraining(config)\n",
    "CE = torch.nn.CrossEntropyLoss()\n",
    "device = torch.device(\"cuda\") if torch.cuda.is_available() else torch.device(\"cpu\")\n",
    "\n",
    "model.to(device)\n",
    "optim = AdamW(model.parameters(), lr = 1e-4)\n",
    "epochs = 5\n",
    "\n",
    "for epoch in range(epochs):\n",
    "    loop = tqdm(dataloader_train, leave = True)\n",
    "    for batch in loop:\n",
    "        optim.zero_grad()\n",
    "        input_ids = batch['input_ids']\n",
    "        token_type_ids = batch['token_type_ids']\n",
    "        attention_mask = batch['attention_mask']\n",
    "        next_sentence_label = batch['next_sentence_label']\n",
    "        labels = batch['labels']\n",
    "        outputs = model(input_ids, attention_mask=attention_mask,\n",
    "                        token_type_ids=token_type_ids,\n",
    "                        next_sentence_label=next_sentence_label,\n",
    "                        labels=labels)\n",
    "        loss = outputs.loss\n",
    "        loss.backward()\n",
    "        optim.step()\n",
    "        loop.set_description(f\"Epoch: {epoch}\")\n",
    "        loop.set_postfix(loss = loss.item())"
   ]
  },
  {
   "cell_type": "code",
   "execution_count": null,
   "id": "07073b64",
   "metadata": {},
   "outputs": [],
   "source": [
    "output_lemma.logits.size()"
   ]
  },
  {
   "cell_type": "code",
   "execution_count": null,
   "id": "3f93c2b4",
   "metadata": {},
   "outputs": [],
   "source": [
    "# Testimine\n",
    "dataloader_test = torch.utils.data.DataLoader(prepare_data(test), batch_size = 16)\n",
    "kokku_labelid_vorm = np.array([-1])\n",
    "kokku_labelid_lemma = np.array([-1])\n",
    "kokku_ennustused_vorm = np.array([-1])\n",
    "kokku_ennustused_lemma = np.array([-1])\n",
    "#loop2 = tqdm(dataloader_test, leave = True) # Testandmed\n",
    "loop2 = tqdm(dataloader_train, leave = True) # Treeningandmetel võiks accuracy tulla 1 kui epocheid piisavalt\n",
    "for batch in loop2:\n",
    "    input_ids = batch[\"input_ids\"]\n",
    "    labels_vorm = batch[\"labels_vorm\"]\n",
    "    labels_lemma = batch[\"labels_lemma\"]\n",
    "    \n",
    "    output_lemma = model(input_ids).logits\n",
    "    output_vorm = linear(output_lemma)\n",
    "    indeksid = np.where(input_ids[:, :, 0].flatten() == 4)\n",
    "    labels_vorm = labels_vorm.flatten()[indeksid].detach().numpy()\n",
    "    labels_lemma = labels_lemma.flatten()[indeksid].detach().numpy()\n",
    "    ennustused_vorm = np.argmax(output_vorm.flatten(end_dim = 1)[indeksid].detach().numpy(), axis = 1)\n",
    "    ennustused_lemma = np.argmax(output_lemma.flatten(end_dim = 1)[indeksid].detach().numpy(), axis = 1)\n",
    "    \n",
    "    kokku_labelid_vorm = np.concatenate((kokku_labelid_vorm, labels_vorm))\n",
    "    kokku_labelid_lemma = np.concatenate((kokku_labelid_lemma, labels_lemma))\n",
    "    \n",
    "    kokku_ennustused_vorm = np.concatenate((kokku_ennustused_vorm, ennustused_vorm))\n",
    "    kokku_ennustused_lemma = np.concatenate((kokku_ennustused_lemma, ennustused_lemma))"
   ]
  },
  {
   "cell_type": "code",
   "execution_count": null,
   "id": "95b9331b",
   "metadata": {},
   "outputs": [],
   "source": [
    "kokku_labelid_vorm\n",
    "kokku_labelid_lemma"
   ]
  },
  {
   "cell_type": "code",
   "execution_count": null,
   "id": "f2ae4d1c",
   "metadata": {},
   "outputs": [],
   "source": [
    "kokku_ennustused_vorm\n",
    "kokku_ennustused_lemma"
   ]
  },
  {
   "cell_type": "code",
   "execution_count": null,
   "id": "43bb86a2",
   "metadata": {},
   "outputs": [],
   "source": [
    "sum(kokku_ennustused_vorm[1:] == kokku_labelid_vorm[1:])/len(kokku_labelid_vorm[1:])\n",
    "sum(kokku_ennustused_lemma[1:] == kokku_labelid_lemma[1:])/len(kokku_labelid_lemma[1:])"
   ]
  },
  {
   "cell_type": "code",
   "execution_count": null,
   "id": "219fb4a4",
   "metadata": {},
   "outputs": [],
   "source": [
    "#torch.save(model, \"mudel.pth\")"
   ]
  }
 ],
 "metadata": {
  "kernelspec": {
   "display_name": "Python 3 (ipykernel)",
   "language": "python",
   "name": "python3"
  },
  "language_info": {
   "codemirror_mode": {
    "name": "ipython",
    "version": 3
   },
   "file_extension": ".py",
   "mimetype": "text/x-python",
   "name": "python",
   "nbconvert_exporter": "python",
   "pygments_lexer": "ipython3",
   "version": "3.8.13"
  }
 },
 "nbformat": 4,
 "nbformat_minor": 5
}
