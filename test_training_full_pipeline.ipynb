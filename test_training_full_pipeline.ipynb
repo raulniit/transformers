{
 "cells": [
  {
   "cell_type": "code",
   "execution_count": 1,
   "id": "1090daa8",
   "metadata": {},
   "outputs": [],
   "source": [
    "# Impordid\n",
    "import os\n",
    "import csv\n",
    "from datasets import load_dataset\n",
    "from src.transformers import BertTokenizer, BertForMaskedLM, BertConfig, Trainer, TrainingArguments, DataCollatorForLanguageModeling"
   ]
  },
  {
   "cell_type": "code",
   "execution_count": 2,
   "id": "13c55d51",
   "metadata": {},
   "outputs": [
    {
     "data": {
      "text/plain": [
       "['korpus\\\\estonian_nc17.vert.19_lyh.tsv', 'korpus\\\\test.tsv']"
      ]
     },
     "execution_count": 2,
     "metadata": {},
     "output_type": "execute_result"
    }
   ],
   "source": [
    "input_folder = \"korpus\"\n",
    "input_files = [os.path.join(input_folder, filename) for filename in os.listdir(input_folder) if filename[-3:] == \"tsv\"]\n",
    "input_files"
   ]
  },
  {
   "cell_type": "code",
   "execution_count": 3,
   "id": "b4578a1c",
   "metadata": {
    "scrolled": false
   },
   "outputs": [
    {
     "name": "stdout",
     "output_type": "stream",
     "text": [
      "WARNING:builder.py:477: Using custom data configuration default-cfe7999fd1a076a5\n",
      "WARNING:builder.py:739: Found cached dataset csv (C:/Users/rauln/.cache/huggingface/datasets/csv/default-cfe7999fd1a076a5/0.0.0/6b34fb8fcf56f7c8ba51dc895bfa2bfbe43546f190a60fcf74bb5e8afdcc2317)\n"
     ]
    },
    {
     "data": {
      "application/vnd.jupyter.widget-view+json": {
       "model_id": "7e28b9a0434d4803bd3c4d25bc9e2712",
       "version_major": 2,
       "version_minor": 0
      },
      "text/plain": [
       "  0%|          | 0/1 [00:00<?, ?it/s]"
      ]
     },
     "metadata": {},
     "output_type": "display_data"
    },
    {
     "name": "stdout",
     "output_type": "stream",
     "text": [
      "CPU times: total: 62.5 ms\n",
      "Wall time: 610 ms\n"
     ]
    }
   ],
   "source": [
    "%%time\n",
    "train_dataset = load_dataset(\"csv\", data_files={'train': input_files[1]}, names = [\"text\"], delimiter = \"\\t\")[\"train\"]"
   ]
  },
  {
   "cell_type": "code",
   "execution_count": 4,
   "id": "79a9b07a",
   "metadata": {},
   "outputs": [],
   "source": [
    "tokenizer = BertTokenizer(vocab_file = \"vocab_final.txt\", vocab_file_form = \"vocab_form.txt\", max_length = 128, padding = \"max_length\", truncation = True, return_tensors = \"pt\")"
   ]
  },
  {
   "cell_type": "code",
   "execution_count": 50,
   "id": "2e3c0876",
   "metadata": {},
   "outputs": [],
   "source": [
    "# Võtab iga batchi (tekstid korpusest, kus laused on eraldatud \\n sümboliga, 'text' : lause1 \\n lause2 \\n lause3)\n",
    "# Tokenieerib laused ja lisab batchile labelid\n",
    "# Väjund (x tähistab kõikide lausete arvu loetud batchi tekstides)\n",
    "# {'input_ids': x*128*2 tensor, 'attention_mask': x*128 tensor, 'token_type_ids': x*128 tensor, 'labels': x*128*2 tensor}\n",
    "def tokeniseeri_batch(batch):\n",
    "    batch_laused = [lause for para in batch[\"text\"] for lause in para.split(\"\\n\")]\n",
    "    tokeniseeritud = tokenizer(batch_laused, max_length = 128, padding = \"max_length\", truncation = True, return_tensors = \"pt\")\n",
    "    tokeniseeritud[\"labels\"] = tokeniseeritud[\"input_ids\"]\n",
    "    return tokeniseeritud"
   ]
  },
  {
   "cell_type": "code",
   "execution_count": 52,
   "id": "350898aa",
   "metadata": {},
   "outputs": [
    {
     "data": {
      "application/vnd.jupyter.widget-view+json": {
       "model_id": "4e794466c0ca4d5ebb7fa2a257ed1ba7",
       "version_major": 2,
       "version_minor": 0
      },
      "text/plain": [
       "  0%|          | 0/1 [00:00<?, ?ba/s]"
      ]
     },
     "metadata": {},
     "output_type": "display_data"
    },
    {
     "name": "stdout",
     "output_type": "stream",
     "text": [
      "CPU times: total: 578 ms\n",
      "Wall time: 584 ms\n"
     ]
    }
   ],
   "source": [
    "%%time\n",
    "train_dataset_sisend = train_dataset.map(tokeniseeri_batch, batched=True, remove_columns=[\"text\"])\n",
    "train_dataset_sisend.set_format(type ='torch')"
   ]
  },
  {
   "cell_type": "code",
   "execution_count": null,
   "id": "479c6455",
   "metadata": {},
   "outputs": [],
   "source": [
    "data_collator = DataCollatorForLanguageModeling(\n",
    "        tokenizer=tokenizer,\n",
    "        mlm=True,\n",
    "        mlm_probability=0.15\n",
    "    )"
   ]
  },
  {
   "cell_type": "code",
   "execution_count": null,
   "id": "3c05bba3",
   "metadata": {},
   "outputs": [],
   "source": [
    "config = BertConfig(\n",
    "    vocab_size = tokenizer.vocab_size,\n",
    "    vocab_size_form = tokenizer.vocab_size_form,\n",
    "    tie_word_embeddings = False\n",
    ")\n",
    "\n",
    "model = BertForMaskedLM(config)\n",
    "\n",
    "training_args = TrainingArguments(\n",
    "    output_dir='./train_results',\n",
    "    per_device_train_batch_size=32,\n",
    "    max_steps=10,\n",
    "    learning_rate=1e-4,\n",
    "    logging_dir='./train_logs',\n",
    "    logging_steps=5, \n",
    "    save_steps=10\n",
    ")\n",
    "\n",
    "trainer = Trainer(\n",
    "    model=model,\n",
    "    args=training_args,\n",
    "    data_collator = data_collator,\n",
    "    train_dataset=train_dataset_sisend\n",
    ")\n",
    "\n",
    "trainer.train()"
   ]
  },
  {
   "cell_type": "code",
   "execution_count": 8,
   "id": "7a051d57",
   "metadata": {},
   "outputs": [],
   "source": [
    "model = BertForMaskedLM.from_pretrained(\"train_results\\checkpoint-10\")"
   ]
  },
  {
   "cell_type": "code",
   "execution_count": 54,
   "id": "f1a713ab",
   "metadata": {},
   "outputs": [
    {
     "name": "stderr",
     "output_type": "stream",
     "text": [
      "100%|████████████████████████████████████████████████████████████████████████████████████| 4/4 [00:14<00:00,  3.74s/it]\n"
     ]
    }
   ],
   "source": [
    "import torch\n",
    "from tqdm import tqdm\n",
    "dataloader_test = torch.utils.data.DataLoader(train_dataset_sisend, batch_size = 16)\n",
    "loop = tqdm(dataloader_test, leave = True)\n",
    "for batch in loop:\n",
    "    input_ids = batch[\"input_ids\"]\n",
    "    output = model(input_ids)"
   ]
  },
  {
   "cell_type": "code",
   "execution_count": 60,
   "id": "86970736",
   "metadata": {},
   "outputs": [
    {
     "data": {
      "text/plain": [
       "torch.Size([14, 128, 111])"
      ]
     },
     "execution_count": 60,
     "metadata": {},
     "output_type": "execute_result"
    }
   ],
   "source": []
  }
 ],
 "metadata": {
  "kernelspec": {
   "display_name": "Python 3 (ipykernel)",
   "language": "python",
   "name": "python3"
  },
  "language_info": {
   "codemirror_mode": {
    "name": "ipython",
    "version": 3
   },
   "file_extension": ".py",
   "mimetype": "text/x-python",
   "name": "python",
   "nbconvert_exporter": "python",
   "pygments_lexer": "ipython3",
   "version": "3.8.13"
  }
 },
 "nbformat": 4,
 "nbformat_minor": 5
}
