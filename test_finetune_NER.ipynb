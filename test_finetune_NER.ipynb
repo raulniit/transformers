{
 "cells": [
  {
   "cell_type": "code",
   "execution_count": 4,
   "id": "5054b080",
   "metadata": {},
   "outputs": [],
   "source": [
    "import numpy as np\n",
    "import pandas as pd\n",
    "import torch\n",
    "from src.transformers import BertTokenizer, BertForTokenClassification, BertConfig, Trainer, TrainingArguments, DataCollatorForTokenClassification\n",
    "from transformers import AutoTokenizer, AutoModelForTokenClassification\n",
    "from sklearn.model_selection import train_test_split\n",
    "from datasets import Dataset, load_metric"
   ]
  },
  {
   "cell_type": "code",
   "execution_count": 5,
   "id": "7ad454ce",
   "metadata": {},
   "outputs": [],
   "source": [
    "with open(\"NER_data/estner.cnll\" ,mode = \"r\", encoding = \"utf8\") as f:\n",
    "    data_raw = f.read()\n",
    "    \n",
    "data_raw = [x.split(\"\\t\") for x in data_raw.split(\"\\n\")]\n",
    "data = []\n",
    "temp = []\n",
    "for rida in data_raw:\n",
    "    if len(rida) == 4:\n",
    "        temp.append((rida[0], rida[3]))\n",
    "    else:\n",
    "        data.append({'lause' : temp})\n",
    "        temp = []\n",
    "data = [lause for lause in data if len(lause[\"lause\"]) > 0]"
   ]
  },
  {
   "cell_type": "code",
   "execution_count": 6,
   "id": "dd7e0d6b",
   "metadata": {},
   "outputs": [
    {
     "data": {
      "text/plain": [
       "217253"
      ]
     },
     "execution_count": 6,
     "metadata": {},
     "output_type": "execute_result"
    }
   ],
   "source": [
    "sum([len(x[\"lause\"]) for x in data])"
   ]
  },
  {
   "cell_type": "code",
   "execution_count": 7,
   "id": "c8310e66",
   "metadata": {},
   "outputs": [],
   "source": [
    "# 70% train, 10% val, 20% test\n",
    "data_train, data_test = train_test_split(data, test_size=0.2)\n",
    "data_train, data_val = train_test_split(data_train, test_size=0.125)"
   ]
  },
  {
   "cell_type": "code",
   "execution_count": 8,
   "id": "3824e848",
   "metadata": {},
   "outputs": [],
   "source": [
    "data_train = data_train[:1000]\n",
    "data_test = data_test[:100]\n",
    "data_val = data_val[:100]\n",
    "\n",
    "device = 'cuda' if torch.cuda.is_available() else 'cpu'\n",
    "tags = list(set(token[1] for lause in data for token in lause[\"lause\"]))\n",
    "tag2idx = {tag:idx for idx, tag in enumerate(tags)}\n",
    "idx2tag = {idx:tag for idx, tag in enumerate(tags)}\n",
    "\n",
    "tokenizer = BertTokenizer(vocab_file = \"vocab_final.txt\", vocab_file_form = \"vocab_form.txt\", max_length = 128,\n",
    "                         padding = \"max_length\", truncation = True, return_tensors = \"pt\", mask_token=\"ˇMASKˇ\")"
   ]
  },
  {
   "cell_type": "code",
   "execution_count": 9,
   "id": "eb752cbc",
   "metadata": {},
   "outputs": [],
   "source": [
    "# Labelite allignimine\n",
    "# Fast tokenizerit pole, seega tuli teha jõuga\n",
    "\n",
    "def tokeniseeri_lause_lisa_labelid(batch):\n",
    "    INP, TTI, BIN, ATT, LAB = [], [], [], [], []\n",
    "    for i, lause_paarid in enumerate(batch[\"lause\"]):\n",
    "        lause = [x[0] for x in lause_paarid]\n",
    "        labelid_alg = [x[1] for x in lause_paarid]\n",
    "        lause_sonade_tokenid = []\n",
    "        for sona in lause:\n",
    "            tokeniseeritud_sona = tokenizer(sona, estnltk_first_token = True)\n",
    "            lause_sonade_tokenid.append(tokeniseeritud_sona[\"input_ids\"][1:-1])\n",
    "\n",
    "        tokeneid_sonadel = [len(x) for x in lause_sonade_tokenid]\n",
    "        tokeniseeritud_lause = tokenizer(lause, is_split_into_words=True, max_length = 128,\n",
    "                         padding = \"max_length\", truncation = True, return_tensors = \"pt\", estnltk_first_token = True)\n",
    "        labelid = []\n",
    "        i = 0\n",
    "        mitu_id = False\n",
    "        j = 0\n",
    "        for input_id in tokeniseeritud_lause[\"input_ids\"][0]:\n",
    "            \n",
    "            if mitu_id:\n",
    "                labelid.append(-100)\n",
    "                j -= 1\n",
    "                if j == 0:\n",
    "                    mitu_id = False\n",
    "                continue\n",
    "                \n",
    "            if input_id[0].item() < 5:\n",
    "                labelid.append(-100)\n",
    "                continue\n",
    "                \n",
    "            labelid.append(tag2idx[labelid_alg[i]])\n",
    "            \n",
    "            if tokeneid_sonadel[i] > 1:\n",
    "                j = tokeneid_sonadel[i] - 1\n",
    "                mitu_id = True\n",
    "                \n",
    "            i += 1\n",
    "            \n",
    "        assert len(tokeniseeritud_lause[\"input_ids\"][0]) == len(labelid)\n",
    "        \n",
    "        INP.append(tokeniseeritud_lause[\"input_ids\"])\n",
    "        TTI.append(tokeniseeritud_lause[\"token_type_ids\"])\n",
    "        BIN.append(tokeniseeritud_lause[\"binary_channels\"])\n",
    "        ATT.append(tokeniseeritud_lause[\"attention_mask\"])\n",
    "        LAB.append(torch.tensor(labelid))\n",
    "    \n",
    "    \n",
    "    INP = torch.cat(INP)\n",
    "    TTI = torch.cat(TTI)\n",
    "    BIN = torch.cat(BIN)\n",
    "    ATT = torch.cat(ATT)\n",
    "    LAB = torch.stack(LAB)\n",
    "    \n",
    "    encodings = {\n",
    "    \"input_ids\" : INP,\n",
    "    \"token_type_ids\" : TTI,\n",
    "    \"binary_channels\" : BIN,\n",
    "    \"attention_mask\" : ATT,\n",
    "    \"labels\" : LAB\n",
    "    }\n",
    "    \n",
    "    return encodings"
   ]
  },
  {
   "cell_type": "code",
   "execution_count": 10,
   "id": "fdf14fe7",
   "metadata": {},
   "outputs": [
    {
     "name": "stdout",
     "output_type": "stream",
     "text": [
      "WARNING:fingerprint.py:328: Parameter 'function'=<function tokeniseeri_lause_lisa_labelid at 0x0000010E6D767DC0> of the transform datasets.arrow_dataset.Dataset._map_single couldn't be hashed properly, a random hash was used instead. Make sure your transforms and parameters are serializable with pickle or dill for the dataset fingerprinting and caching to work. If you reuse this transform, the caching mechanism will consider it to be different from the previous calls and recompute everything. This warning is only showed once. Subsequent hashing failures won't be showed.\n"
     ]
    },
    {
     "data": {
      "application/vnd.jupyter.widget-view+json": {
       "model_id": "6e63ba213fd7472baf9d4ae2b6b7efa0",
       "version_major": 2,
       "version_minor": 0
      },
      "text/plain": [
       "  0%|          | 0/1 [00:00<?, ?ba/s]"
      ]
     },
     "metadata": {},
     "output_type": "display_data"
    },
    {
     "data": {
      "application/vnd.jupyter.widget-view+json": {
       "model_id": "6efcc31f699b457cb95d82e285dc00a6",
       "version_major": 2,
       "version_minor": 0
      },
      "text/plain": [
       "  0%|          | 0/1 [00:00<?, ?ba/s]"
      ]
     },
     "metadata": {},
     "output_type": "display_data"
    },
    {
     "data": {
      "application/vnd.jupyter.widget-view+json": {
       "model_id": "3f15598322f24611a7155172761f1400",
       "version_major": 2,
       "version_minor": 0
      },
      "text/plain": [
       "  0%|          | 0/1 [00:00<?, ?ba/s]"
      ]
     },
     "metadata": {},
     "output_type": "display_data"
    },
    {
     "name": "stdout",
     "output_type": "stream",
     "text": [
      "CPU times: total: 6min 34s\n",
      "Wall time: 6min 36s\n"
     ]
    }
   ],
   "source": [
    "%%time\n",
    "train_dataset = Dataset.from_list(data_train)\n",
    "train_tokenized_dataset = train_dataset.map(tokeniseeri_lause_lisa_labelid, batched=True)\n",
    "\n",
    "test_dataset = Dataset.from_list(data_test)\n",
    "test_tokenized_dataset = test_dataset.map(tokeniseeri_lause_lisa_labelid, batched=True)\n",
    "\n",
    "val_dataset = Dataset.from_list(data_val)\n",
    "val_tokenized_dataset = val_dataset.map(tokeniseeri_lause_lisa_labelid, batched=True)"
   ]
  },
  {
   "cell_type": "code",
   "execution_count": 8,
   "id": "9094e332",
   "metadata": {},
   "outputs": [
    {
     "name": "stderr",
     "output_type": "stream",
     "text": [
      "Some weights of the model checkpoint at train_results_mudel4/checkpoint-200000 were not used when initializing BertForTokenClassification: ['cls_lemma.predictions.transform.LayerNorm.weight', 'cls_lemma.predictions.transform.dense.weight', 'cls_lemma.predictions.decoder.bias', 'cls_lemma.predictions.decoder.weight', 'cls_lemma.predictions.transform.LayerNorm.bias', 'cls_lemma.predictions.transform.dense.bias', 'cls_lemma.predictions.bias']\n",
      "- This IS expected if you are initializing BertForTokenClassification from the checkpoint of a model trained on another task or with another architecture (e.g. initializing a BertForSequenceClassification model from a BertForPreTraining model).\n",
      "- This IS NOT expected if you are initializing BertForTokenClassification from the checkpoint of a model that you expect to be exactly identical (initializing a BertForSequenceClassification model from a BertForSequenceClassification model).\n",
      "Some weights of BertForTokenClassification were not initialized from the model checkpoint at train_results_mudel4/checkpoint-200000 and are newly initialized: ['classifier.bias', 'classifier.weight']\n",
      "You should probably TRAIN this model on a down-stream task to be able to use it for predictions and inference.\n",
      "C:\\Users\\rauln\\AppData\\Local\\Temp\\ipykernel_11516\\3085089335.py:17: FutureWarning: load_metric is deprecated and will be removed in the next major version of datasets. Use 'evaluate.load' instead, from the new library 🤗 Evaluate: https://huggingface.co/docs/evaluate\n",
      "  metric = load_metric(\"seqeval\")\n",
      "The following columns in the training set don't have a corresponding argument in `BertForTokenClassification.forward` and have been ignored: lause. If lause are not expected by `BertForTokenClassification.forward`,  you can safely ignore this message.\n",
      "C:\\Users\\rauln\\Documents\\makatoo\\transformers\\src\\transformers\\optimization.py:306: FutureWarning: This implementation of AdamW is deprecated and will be removed in a future version. Use the PyTorch implementation torch.optim.AdamW instead, or set `no_deprecation_warning=True` to disable this warning\n",
      "  warnings.warn(\n",
      "***** Running training *****\n",
      "  Num examples = 1000\n",
      "  Num Epochs = 2\n",
      "  Instantaneous batch size per device = 16\n",
      "  Total train batch size (w. parallel, distributed & accumulation) = 16\n",
      "  Gradient Accumulation steps = 1\n",
      "  Total optimization steps = 126\n",
      "  Number of trainable parameters = 121469671\n"
     ]
    },
    {
     "data": {
      "text/html": [
       "\n",
       "    <div>\n",
       "      \n",
       "      <progress value='126' max='126' style='width:300px; height:20px; vertical-align: middle;'></progress>\n",
       "      [126/126 22:52, Epoch 2/2]\n",
       "    </div>\n",
       "    <table border=\"1\" class=\"dataframe\">\n",
       "  <thead>\n",
       " <tr style=\"text-align: left;\">\n",
       "      <th>Epoch</th>\n",
       "      <th>Training Loss</th>\n",
       "      <th>Validation Loss</th>\n",
       "      <th>Precision</th>\n",
       "      <th>Recall</th>\n",
       "      <th>F1</th>\n",
       "      <th>Accuracy</th>\n",
       "    </tr>\n",
       "  </thead>\n",
       "  <tbody>\n",
       "    <tr>\n",
       "      <td>1</td>\n",
       "      <td>No log</td>\n",
       "      <td>0.364978</td>\n",
       "      <td>0.250000</td>\n",
       "      <td>0.037383</td>\n",
       "      <td>0.065041</td>\n",
       "      <td>0.897250</td>\n",
       "    </tr>\n",
       "    <tr>\n",
       "      <td>2</td>\n",
       "      <td>No log</td>\n",
       "      <td>0.340228</td>\n",
       "      <td>0.400000</td>\n",
       "      <td>0.130841</td>\n",
       "      <td>0.197183</td>\n",
       "      <td>0.900868</td>\n",
       "    </tr>\n",
       "  </tbody>\n",
       "</table><p>"
      ],
      "text/plain": [
       "<IPython.core.display.HTML object>"
      ]
     },
     "metadata": {},
     "output_type": "display_data"
    },
    {
     "name": "stderr",
     "output_type": "stream",
     "text": [
      "The following columns in the evaluation set don't have a corresponding argument in `BertForTokenClassification.forward` and have been ignored: lause. If lause are not expected by `BertForTokenClassification.forward`,  you can safely ignore this message.\n",
      "***** Running Evaluation *****\n",
      "  Num examples = 100\n",
      "  Batch size = 16\n",
      "C:\\Users\\rauln\\anaconda3\\envs\\EKTP\\lib\\site-packages\\seqeval\\metrics\\v1.py:57: UndefinedMetricWarning: Precision and F-score are ill-defined and being set to 0.0 in labels with no predicted samples. Use `zero_division` parameter to control this behavior.\n",
      "  _warn_prf(average, modifier, msg_start, len(result))\n",
      "The following columns in the evaluation set don't have a corresponding argument in `BertForTokenClassification.forward` and have been ignored: lause. If lause are not expected by `BertForTokenClassification.forward`,  you can safely ignore this message.\n",
      "***** Running Evaluation *****\n",
      "  Num examples = 100\n",
      "  Batch size = 16\n",
      "\n",
      "\n",
      "Training completed. Do not forget to share your model on huggingface.co/models =)\n",
      "\n",
      "\n",
      "The following columns in the evaluation set don't have a corresponding argument in `BertForTokenClassification.forward` and have been ignored: lause. If lause are not expected by `BertForTokenClassification.forward`,  you can safely ignore this message.\n",
      "***** Running Evaluation *****\n",
      "  Num examples = 100\n",
      "  Batch size = 16\n"
     ]
    },
    {
     "data": {
      "text/html": [],
      "text/plain": [
       "<IPython.core.display.HTML object>"
      ]
     },
     "metadata": {},
     "output_type": "display_data"
    },
    {
     "data": {
      "text/plain": [
       "{'eval_loss': 0.3402279317378998,\n",
       " 'eval_precision': 0.4,\n",
       " 'eval_recall': 0.1308411214953271,\n",
       " 'eval_f1': 0.19718309859154926,\n",
       " 'eval_accuracy': 0.9008683068017366,\n",
       " 'eval_runtime': 21.0382,\n",
       " 'eval_samples_per_second': 4.753,\n",
       " 'eval_steps_per_second': 0.333,\n",
       " 'epoch': 2.0}"
      ]
     },
     "execution_count": 8,
     "metadata": {},
     "output_type": "execute_result"
    }
   ],
   "source": [
    "model = BertForTokenClassification.from_pretrained(\"train_results/checkpoint-100000\", num_labels=len(tag2idx))\n",
    "model.to(device)\n",
    "\n",
    "batch_size = 16\n",
    "\n",
    "args = TrainingArguments(\n",
    "    \"NER_tag_results\",\n",
    "    evaluation_strategy=\"epoch\",\n",
    "    logging_strategy=\"epoch\",\n",
    "    save_strategy=\"epoch\",\n",
    "    learning_rate=5e-5,\n",
    "    per_device_train_batch_size=batch_size,\n",
    "    per_device_eval_batch_size=batch_size,\n",
    "    num_train_epochs=2\n",
    ")\n",
    "\n",
    "data_collator = DataCollatorForTokenClassification(tokenizer)\n",
    "\n",
    "metric = load_metric(\"seqeval\")\n",
    "\n",
    "def compute_metrics(p):\n",
    "    predictions, labels = p\n",
    "    predictions = np.argmax(predictions, axis=2)\n",
    "\n",
    "    true_predictions = [[tags[p] for (p, l) in zip(prediction, label) if l != -100] for prediction, label in zip(predictions, labels)]\n",
    "    true_labels = [[tags[l] for (p, l) in zip(prediction, label) if l != -100] for prediction, label in zip(predictions, labels)]\n",
    "    \n",
    "\n",
    "    results = metric.compute(predictions=true_predictions, references=true_labels)\n",
    "    return {\"precision\": results[\"overall_precision\"], \"recall\": results[\"overall_recall\"], \"f1\": results[\"overall_f1\"], \"accuracy\": results[\"overall_accuracy\"]}\n",
    "    \n",
    "\n",
    "\n",
    "trainer = Trainer(\n",
    "    model,\n",
    "    args,\n",
    "    train_dataset=train_tokenized_dataset,\n",
    "    eval_dataset=val_tokenized_dataset,\n",
    "    data_collator=data_collator,\n",
    "    tokenizer=tokenizer,\n",
    "    compute_metrics=compute_metrics\n",
    ")\n",
    "\n",
    "trainer.train()\n",
    "trainer.evaluate()"
   ]
  },
  {
   "cell_type": "code",
   "execution_count": 9,
   "id": "43b02de2",
   "metadata": {},
   "outputs": [
    {
     "name": "stderr",
     "output_type": "stream",
     "text": [
      "The following columns in the test set don't have a corresponding argument in `BertForTokenClassification.forward` and have been ignored: lause. If lause are not expected by `BertForTokenClassification.forward`,  you can safely ignore this message.\n",
      "***** Running Prediction *****\n",
      "  Num examples = 100\n",
      "  Batch size = 16\n"
     ]
    },
    {
     "data": {
      "text/plain": [
       "{'LOC': {'precision': 0.38095238095238093,\n",
       "  'recall': 0.2222222222222222,\n",
       "  'f1': 0.2807017543859649,\n",
       "  'number': 36},\n",
       " 'ORG': {'precision': 0.0, 'recall': 0.0, 'f1': 0.0, 'number': 27},\n",
       " 'PER': {'precision': 0.42857142857142855,\n",
       "  'recall': 0.08823529411764706,\n",
       "  'f1': 0.14634146341463417,\n",
       "  'number': 34},\n",
       " 'overall_precision': 0.39285714285714285,\n",
       " 'overall_recall': 0.1134020618556701,\n",
       " 'overall_f1': 0.17600000000000002,\n",
       " 'overall_accuracy': 0.9120715350223547}"
      ]
     },
     "execution_count": 9,
     "metadata": {},
     "output_type": "execute_result"
    }
   ],
   "source": [
    "predictions, labels, _ = trainer.predict(test_tokenized_dataset)\n",
    "predictions = np.argmax(predictions, axis=2)\n",
    "\n",
    "# Remove ignored index (special tokens)\n",
    "true_predictions = [\n",
    "    [tags[p] for (p, l) in zip(prediction, label) if l != -100]\n",
    "    for prediction, label in zip(predictions, labels)\n",
    "]\n",
    "true_labels = [\n",
    "    [tags[l] for (p, l) in zip(prediction, label) if l != -100]\n",
    "    for prediction, label in zip(predictions, labels)\n",
    "]\n",
    "\n",
    "results = metric.compute(predictions=true_predictions, references=true_labels)\n",
    "results"
   ]
  },
  {
   "cell_type": "code",
   "execution_count": 15,
   "id": "2a3ef50e",
   "metadata": {},
   "outputs": [],
   "source": [
    "### ESTBERT ###\n",
    "\n",
    "tokenizer = AutoTokenizer.from_pretrained(\"tartuNLP/EstBERT\", max_length = 128,\n",
    "                         padding = \"max_length\", truncation = True, return_tensors = \"pt\")\n",
    "\n",
    "def tokeniseeri_lause_lisa_labelid(batch):\n",
    "    INP, TTI, ATT, LAB = [], [], [], []\n",
    "    for i, lause_paarid in enumerate(batch[\"lause\"]):\n",
    "        lause = [x[0] for x in lause_paarid]\n",
    "        labelid_alg = [x[1] for x in lause_paarid]\n",
    "        lause_sonade_tokenid = []\n",
    "        for sona in lause:\n",
    "            tokeniseeritud_sona = tokenizer(sona)\n",
    "            lause_sonade_tokenid.append(tokeniseeritud_sona[\"input_ids\"][1:-1])\n",
    "\n",
    "        tokeneid_sonadel = [len(x) for x in lause_sonade_tokenid]\n",
    "        tokeniseeritud_lause = tokenizer(lause, is_split_into_words=True, max_length = 128,\n",
    "                         padding = \"max_length\", truncation = True, return_tensors = \"pt\")\n",
    "        labelid = []\n",
    "        i = 0\n",
    "        mitu_id = False\n",
    "        j = 0\n",
    "        for input_id in tokeniseeritud_lause[\"input_ids\"][0]:\n",
    "            \n",
    "            if mitu_id:\n",
    "                labelid.append(-100)\n",
    "                j -= 1\n",
    "                if j == 0:\n",
    "                    mitu_id = False\n",
    "                continue\n",
    "                \n",
    "            if input_id.item() < 5:\n",
    "                labelid.append(-100)\n",
    "                continue\n",
    "                \n",
    "            labelid.append(tag2idx[labelid_alg[i]])\n",
    "            \n",
    "            if tokeneid_sonadel[i] > 1:\n",
    "                j = tokeneid_sonadel[i] - 1\n",
    "                mitu_id = True\n",
    "                \n",
    "            i += 1\n",
    "            \n",
    "        assert len(tokeniseeritud_lause[\"input_ids\"][0]) == len(labelid)\n",
    "        \n",
    "        INP.append(tokeniseeritud_lause[\"input_ids\"])\n",
    "        TTI.append(tokeniseeritud_lause[\"token_type_ids\"])\n",
    "        ATT.append(tokeniseeritud_lause[\"attention_mask\"])\n",
    "        LAB.append(torch.tensor(labelid))\n",
    "    \n",
    "    \n",
    "    INP = torch.cat(INP)\n",
    "    TTI = torch.cat(TTI)\n",
    "    ATT = torch.cat(ATT)\n",
    "    LAB = torch.stack(LAB)\n",
    "    \n",
    "    encodings = {\n",
    "    \"input_ids\" : INP,\n",
    "    \"token_type_ids\" : TTI,\n",
    "    \"attention_mask\" : ATT,\n",
    "    \"labels\" : LAB\n",
    "    }\n",
    "    \n",
    "    return encodings"
   ]
  },
  {
   "cell_type": "code",
   "execution_count": 16,
   "id": "8149c32b",
   "metadata": {},
   "outputs": [
    {
     "data": {
      "application/vnd.jupyter.widget-view+json": {
       "model_id": "e447d815edf94397a092f61f3806b515",
       "version_major": 2,
       "version_minor": 0
      },
      "text/plain": [
       "  0%|          | 0/1 [00:00<?, ?ba/s]"
      ]
     },
     "metadata": {},
     "output_type": "display_data"
    },
    {
     "data": {
      "application/vnd.jupyter.widget-view+json": {
       "model_id": "b22a4587097c4389a241776883424ae7",
       "version_major": 2,
       "version_minor": 0
      },
      "text/plain": [
       "  0%|          | 0/1 [00:00<?, ?ba/s]"
      ]
     },
     "metadata": {},
     "output_type": "display_data"
    },
    {
     "data": {
      "application/vnd.jupyter.widget-view+json": {
       "model_id": "4f2757b5f73c43d398867c209b3e635f",
       "version_major": 2,
       "version_minor": 0
      },
      "text/plain": [
       "  0%|          | 0/1 [00:00<?, ?ba/s]"
      ]
     },
     "metadata": {},
     "output_type": "display_data"
    },
    {
     "name": "stdout",
     "output_type": "stream",
     "text": [
      "CPU times: total: 3.16 s\n",
      "Wall time: 3.2 s\n"
     ]
    }
   ],
   "source": [
    "%%time\n",
    "train_dataset = Dataset.from_list(data_train)\n",
    "train_tokenized_dataset = train_dataset.map(tokeniseeri_lause_lisa_labelid, batched=True)\n",
    "\n",
    "test_dataset = Dataset.from_list(data_test)\n",
    "test_tokenized_dataset = test_dataset.map(tokeniseeri_lause_lisa_labelid, batched=True)\n",
    "\n",
    "val_dataset = Dataset.from_list(data_val)\n",
    "val_tokenized_dataset = val_dataset.map(tokeniseeri_lause_lisa_labelid, batched=True)"
   ]
  },
  {
   "cell_type": "code",
   "execution_count": 18,
   "id": "6c4fd16e",
   "metadata": {},
   "outputs": [
    {
     "name": "stderr",
     "output_type": "stream",
     "text": [
      "Some weights of the model checkpoint at tartuNLP/EstBERT were not used when initializing BertForTokenClassification: ['cls.predictions.transform.dense.bias', 'cls.predictions.decoder.bias', 'cls.predictions.transform.dense.weight', 'cls.predictions.bias', 'cls.predictions.transform.LayerNorm.bias', 'cls.predictions.transform.LayerNorm.weight', 'cls.predictions.decoder.weight']\n",
      "- This IS expected if you are initializing BertForTokenClassification from the checkpoint of a model trained on another task or with another architecture (e.g. initializing a BertForSequenceClassification model from a BertForPreTraining model).\n",
      "- This IS NOT expected if you are initializing BertForTokenClassification from the checkpoint of a model that you expect to be exactly identical (initializing a BertForSequenceClassification model from a BertForSequenceClassification model).\n",
      "Some weights of BertForTokenClassification were not initialized from the model checkpoint at tartuNLP/EstBERT and are newly initialized: ['classifier.bias', 'classifier.weight']\n",
      "You should probably TRAIN this model on a down-stream task to be able to use it for predictions and inference.\n",
      "PyTorch: setting up devices\n",
      "The default value for the training argument `--report_to` will change in v5 (from all installed integrations to none). In v5, you will need to use `--report_to all` to get the same behavior as now. You should start updating your code and make this info disappear :-).\n",
      "The following columns in the training set don't have a corresponding argument in `BertForTokenClassification.forward` and have been ignored: lause. If lause are not expected by `BertForTokenClassification.forward`,  you can safely ignore this message.\n",
      "C:\\Users\\rauln\\Documents\\makatoo\\transformers\\src\\transformers\\optimization.py:306: FutureWarning: This implementation of AdamW is deprecated and will be removed in a future version. Use the PyTorch implementation torch.optim.AdamW instead, or set `no_deprecation_warning=True` to disable this warning\n",
      "  warnings.warn(\n",
      "***** Running training *****\n",
      "  Num examples = 1000\n",
      "  Num Epochs = 2\n",
      "  Instantaneous batch size per device = 16\n",
      "  Total train batch size (w. parallel, distributed & accumulation) = 16\n",
      "  Gradient Accumulation steps = 1\n",
      "  Total optimization steps = 126\n",
      "  Number of trainable parameters = 123856135\n",
      "You're using a BertTokenizerFast tokenizer. Please note that with a fast tokenizer, using the `__call__` method is faster than using a method to encode the text followed by a call to the `pad` method to get a padded encoding.\n"
     ]
    },
    {
     "data": {
      "text/html": [
       "\n",
       "    <div>\n",
       "      \n",
       "      <progress value='126' max='126' style='width:300px; height:20px; vertical-align: middle;'></progress>\n",
       "      [126/126 25:48, Epoch 2/2]\n",
       "    </div>\n",
       "    <table border=\"1\" class=\"dataframe\">\n",
       "  <thead>\n",
       " <tr style=\"text-align: left;\">\n",
       "      <th>Epoch</th>\n",
       "      <th>Training Loss</th>\n",
       "      <th>Validation Loss</th>\n",
       "      <th>Precision</th>\n",
       "      <th>Recall</th>\n",
       "      <th>F1</th>\n",
       "      <th>Accuracy</th>\n",
       "    </tr>\n",
       "  </thead>\n",
       "  <tbody>\n",
       "    <tr>\n",
       "      <td>1</td>\n",
       "      <td>No log</td>\n",
       "      <td>0.171761</td>\n",
       "      <td>0.687500</td>\n",
       "      <td>0.641667</td>\n",
       "      <td>0.663793</td>\n",
       "      <td>0.948993</td>\n",
       "    </tr>\n",
       "    <tr>\n",
       "      <td>2</td>\n",
       "      <td>No log</td>\n",
       "      <td>0.149367</td>\n",
       "      <td>0.669492</td>\n",
       "      <td>0.658333</td>\n",
       "      <td>0.663866</td>\n",
       "      <td>0.951007</td>\n",
       "    </tr>\n",
       "  </tbody>\n",
       "</table><p>"
      ],
      "text/plain": [
       "<IPython.core.display.HTML object>"
      ]
     },
     "metadata": {},
     "output_type": "display_data"
    },
    {
     "name": "stderr",
     "output_type": "stream",
     "text": [
      "The following columns in the evaluation set don't have a corresponding argument in `BertForTokenClassification.forward` and have been ignored: lause. If lause are not expected by `BertForTokenClassification.forward`,  you can safely ignore this message.\n",
      "***** Running Evaluation *****\n",
      "  Num examples = 100\n",
      "  Batch size = 16\n",
      "The following columns in the evaluation set don't have a corresponding argument in `BertForTokenClassification.forward` and have been ignored: lause. If lause are not expected by `BertForTokenClassification.forward`,  you can safely ignore this message.\n",
      "***** Running Evaluation *****\n",
      "  Num examples = 100\n",
      "  Batch size = 16\n",
      "\n",
      "\n",
      "Training completed. Do not forget to share your model on huggingface.co/models =)\n",
      "\n",
      "\n",
      "The following columns in the evaluation set don't have a corresponding argument in `BertForTokenClassification.forward` and have been ignored: lause. If lause are not expected by `BertForTokenClassification.forward`,  you can safely ignore this message.\n",
      "***** Running Evaluation *****\n",
      "  Num examples = 100\n",
      "  Batch size = 16\n"
     ]
    },
    {
     "data": {
      "text/html": [],
      "text/plain": [
       "<IPython.core.display.HTML object>"
      ]
     },
     "metadata": {},
     "output_type": "display_data"
    },
    {
     "data": {
      "text/plain": [
       "{'eval_loss': 0.14936676621437073,\n",
       " 'eval_precision': 0.6694915254237288,\n",
       " 'eval_recall': 0.6583333333333333,\n",
       " 'eval_f1': 0.6638655462184875,\n",
       " 'eval_accuracy': 0.951006711409396,\n",
       " 'eval_runtime': 22.1249,\n",
       " 'eval_samples_per_second': 4.52,\n",
       " 'eval_steps_per_second': 0.316,\n",
       " 'epoch': 2.0}"
      ]
     },
     "execution_count": 18,
     "metadata": {},
     "output_type": "execute_result"
    }
   ],
   "source": [
    "model = AutoModelForTokenClassification.from_pretrained(\"tartuNLP/EstBERT\", num_labels=len(tag2idx))\n",
    "model.to(device)\n",
    "\n",
    "batch_size = 16\n",
    "\n",
    "args = TrainingArguments(\n",
    "    \"NER_tag_results_EST\",\n",
    "    evaluation_strategy=\"epoch\",\n",
    "    logging_strategy=\"epoch\",\n",
    "    save_strategy=\"epoch\",\n",
    "    learning_rate=5e-5,\n",
    "    per_device_train_batch_size=batch_size,\n",
    "    per_device_eval_batch_size=batch_size,\n",
    "    num_train_epochs=2\n",
    ")\n",
    "\n",
    "data_collator = DataCollatorForTokenClassification(tokenizer)\n",
    "\n",
    "metric = load_metric(\"seqeval\")\n",
    "\n",
    "def compute_metrics(p):\n",
    "    predictions, labels = p\n",
    "    predictions = np.argmax(predictions, axis=2)\n",
    "\n",
    "    true_predictions = [[tags[p] for (p, l) in zip(prediction, label) if l != -100] for prediction, label in zip(predictions, labels)]\n",
    "    true_labels = [[tags[l] for (p, l) in zip(prediction, label) if l != -100] for prediction, label in zip(predictions, labels)]\n",
    "    \n",
    "\n",
    "    results = metric.compute(predictions=true_predictions, references=true_labels)\n",
    "    return {\"precision\": results[\"overall_precision\"], \"recall\": results[\"overall_recall\"], \"f1\": results[\"overall_f1\"], \"accuracy\": results[\"overall_accuracy\"]}\n",
    "    \n",
    "\n",
    "\n",
    "trainer = Trainer(\n",
    "    model,\n",
    "    args,\n",
    "    train_dataset=train_tokenized_dataset,\n",
    "    eval_dataset=val_tokenized_dataset,\n",
    "    data_collator=data_collator,\n",
    "    tokenizer=tokenizer,\n",
    "    compute_metrics=compute_metrics\n",
    ")\n",
    "\n",
    "trainer.train()\n",
    "trainer.evaluate()"
   ]
  },
  {
   "cell_type": "code",
   "execution_count": 19,
   "id": "f8e60ace",
   "metadata": {},
   "outputs": [
    {
     "name": "stderr",
     "output_type": "stream",
     "text": [
      "The following columns in the test set don't have a corresponding argument in `BertForTokenClassification.forward` and have been ignored: lause. If lause are not expected by `BertForTokenClassification.forward`,  you can safely ignore this message.\n",
      "***** Running Prediction *****\n",
      "  Num examples = 100\n",
      "  Batch size = 16\n"
     ]
    },
    {
     "data": {
      "text/plain": [
       "{'LOC': {'precision': 0.7575757575757576,\n",
       "  'recall': 0.6756756756756757,\n",
       "  'f1': 0.7142857142857142,\n",
       "  'number': 37},\n",
       " 'ORG': {'precision': 0.42105263157894735,\n",
       "  'recall': 0.25,\n",
       "  'f1': 0.3137254901960784,\n",
       "  'number': 32},\n",
       " 'PER': {'precision': 0.627906976744186,\n",
       "  'recall': 0.6585365853658537,\n",
       "  'f1': 0.6428571428571429,\n",
       "  'number': 41},\n",
       " 'overall_precision': 0.631578947368421,\n",
       " 'overall_recall': 0.5454545454545454,\n",
       " 'overall_f1': 0.5853658536585366,\n",
       " 'overall_accuracy': 0.9511514305652478}"
      ]
     },
     "execution_count": 19,
     "metadata": {},
     "output_type": "execute_result"
    }
   ],
   "source": [
    "predictions, labels, _ = trainer.predict(test_tokenized_dataset)\n",
    "predictions = np.argmax(predictions, axis=2)\n",
    "\n",
    "# Remove ignored index (special tokens)\n",
    "true_predictions = [\n",
    "    [tags[p] for (p, l) in zip(prediction, label) if l != -100]\n",
    "    for prediction, label in zip(predictions, labels)\n",
    "]\n",
    "true_labels = [\n",
    "    [tags[l] for (p, l) in zip(prediction, label) if l != -100]\n",
    "    for prediction, label in zip(predictions, labels)\n",
    "]\n",
    "\n",
    "results = metric.compute(predictions=true_predictions, references=true_labels)\n",
    "results"
   ]
  }
 ],
 "metadata": {
  "kernelspec": {
   "display_name": "Python 3 (ipykernel)",
   "language": "python",
   "name": "python3"
  },
  "language_info": {
   "codemirror_mode": {
    "name": "ipython",
    "version": 3
   },
   "file_extension": ".py",
   "mimetype": "text/x-python",
   "name": "python",
   "nbconvert_exporter": "python",
   "pygments_lexer": "ipython3",
   "version": "3.8.13"
  }
 },
 "nbformat": 4,
 "nbformat_minor": 5
}
