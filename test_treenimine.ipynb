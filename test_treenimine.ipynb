{
 "cells": [
  {
   "cell_type": "code",
   "execution_count": 1,
   "id": "1090daa8",
   "metadata": {},
   "outputs": [],
   "source": [
    "# Impordid\n",
    "from src.transformers.models.bert.tokenization_bert import BertTokenizer\n",
    "from src.transformers.models.bert.modeling_bert import BertEmbeddings, BertModel, BertForMaskedLM\n",
    "import torch\n",
    "from estnltk import Text\n",
    "from estnltk.corpus_processing.parse_enc import parse_enc_file_iterator\n",
    "from src.transformers.models.bert.configuration_bert import BertConfig\n",
    "from transformers import AdamW\n",
    "from tqdm.auto import tqdm\n",
    "from transformers import pipeline\n",
    "import numpy as np"
   ]
  },
  {
   "cell_type": "code",
   "execution_count": 2,
   "id": "0473ed42",
   "metadata": {},
   "outputs": [
    {
     "name": "stdout",
     "output_type": "stream",
     "text": [
      "BertTokenizer\n"
     ]
    }
   ],
   "source": [
    "# Tokeniseerija\n",
    "tokenizer = BertTokenizer(vocab_file = \"vocab2.txt\", vocab_file_form = \"vocab_form.txt\")"
   ]
  },
  {
   "cell_type": "code",
   "execution_count": 3,
   "id": "1f5ab730",
   "metadata": {},
   "outputs": [],
   "source": [
    "sisend = [\"Väljas sajab lund.\", \"Mul ei tule und.\"]"
   ]
  },
  {
   "cell_type": "code",
   "execution_count": 4,
   "id": "784de764",
   "metadata": {},
   "outputs": [],
   "source": [
    "# Dataseti loomine dataloaderi jaoks\n",
    "class Dataset(torch.utils.data.Dataset):\n",
    "    def __init__(self, encodings):\n",
    "        self.encodings = encodings\n",
    "    def __len__(self):\n",
    "        return self.encodings[\"input_ids\"].shape[0]\n",
    "    def __getitem__(self, i):\n",
    "        return {key: tensor[i] for key, tensor in self.encodings.items()}"
   ]
  },
  {
   "cell_type": "code",
   "execution_count": 5,
   "id": "b3379d08",
   "metadata": {},
   "outputs": [],
   "source": [
    "# Maskimine\n",
    "def mlm(tensor):\n",
    "    rand = torch.rand(tensor[:, :, 0].shape)\n",
    "    mask_arr = (rand < 0.15) * (tensor[:, :, 0] > 5) # 15% sõnadest maskitakse\n",
    "    for i in range(tensor[:, :, 0].shape[0]):\n",
    "        selection = torch.flatten(mask_arr[i].nonzero()).tolist()\n",
    "        tensor[i, selection] = 4 # [MASK] tokeni ID mõlemas vocabis\n",
    "    return tensor"
   ]
  },
  {
   "cell_type": "code",
   "execution_count": 6,
   "id": "a9ce39e9",
   "metadata": {},
   "outputs": [],
   "source": [
    "# Andmestiku ettevalmistamine treenimiseks või mudelis kasutamiseks\n",
    "def prepare_data(data):\n",
    "    input_ids = []\n",
    "    mask = []\n",
    "    labels = []\n",
    "    \n",
    "    sample = tokenizer(data, max_length = 8, padding = \"max_length\", truncation = True, return_tensors = \"pt\")\n",
    "    labels.append(sample.input_ids[:, :, 1]) # Labeliks võtame sõnavormi id\n",
    "    mask.append(sample.attention_mask)\n",
    "    input_ids.append(mlm(sample.input_ids.detach().clone()))\n",
    "    \n",
    "    input_ids = torch.cat(input_ids)\n",
    "    mask = torch.cat(mask)\n",
    "    labels = torch.cat(labels)\n",
    "    \n",
    "    encodings = {\n",
    "    \"input_ids\" : input_ids,\n",
    "    \"attention_mask\" : mask,\n",
    "    \"labels\" : labels\n",
    "    }\n",
    "    \n",
    "    dataset = Dataset(encodings)\n",
    "    return dataset\n",
    "\n",
    "\n",
    "# Dataloaderi loomine mudeli treenimiseks\n",
    "dataloader_train = torch.utils.data.DataLoader(prepare_data(sisend), batch_size = 16, shuffle = True)"
   ]
  },
  {
   "cell_type": "code",
   "execution_count": 7,
   "id": "6a338193",
   "metadata": {},
   "outputs": [
    {
     "name": "stderr",
     "output_type": "stream",
     "text": [
      "C:\\Users\\rauln\\anaconda3\\envs\\EKTP\\lib\\site-packages\\transformers\\optimization.py:306: FutureWarning: This implementation of AdamW is deprecated and will be removed in a future version. Use the PyTorch implementation torch.optim.AdamW instead, or set `no_deprecation_warning=True` to disable this warning\n",
      "  warnings.warn(\n"
     ]
    },
    {
     "data": {
      "application/vnd.jupyter.widget-view+json": {
       "model_id": "5133047b51c941e291a746a8ee769769",
       "version_major": 2,
       "version_minor": 0
      },
      "text/plain": [
       "  0%|          | 0/1 [00:00<?, ?it/s]"
      ]
     },
     "metadata": {},
     "output_type": "display_data"
    },
    {
     "data": {
      "application/vnd.jupyter.widget-view+json": {
       "model_id": "14f1605f5a6943efa48e3e2594989f1b",
       "version_major": 2,
       "version_minor": 0
      },
      "text/plain": [
       "  0%|          | 0/1 [00:00<?, ?it/s]"
      ]
     },
     "metadata": {},
     "output_type": "display_data"
    },
    {
     "data": {
      "application/vnd.jupyter.widget-view+json": {
       "model_id": "51d1541c11b54c918213ef45dec21dee",
       "version_major": 2,
       "version_minor": 0
      },
      "text/plain": [
       "  0%|          | 0/1 [00:00<?, ?it/s]"
      ]
     },
     "metadata": {},
     "output_type": "display_data"
    },
    {
     "name": "stdout",
     "output_type": "stream",
     "text": [
      "CPU times: total: 28.4 s\n",
      "Wall time: 5.31 s\n"
     ]
    }
   ],
   "source": [
    "%%time\n",
    "# Mudeli treenimine\n",
    "\n",
    "config = BertConfig(\n",
    "    vocab_size = tokenizer.vocab_size,\n",
    "    vocab_size_form = tokenizer.vocab_size_form,\n",
    "    tie_word_embeddings = False\n",
    ")\n",
    "\n",
    "model = BertForMaskedLM(config)\n",
    "device = torch.device(\"cuda\") if torch.cuda.is_available() else torch.device(\"cpu\")\n",
    "\n",
    "model.to(device)\n",
    "optim = AdamW(model.parameters(), lr = 1e-4)\n",
    "epochs = 3\n",
    "\n",
    "for epoch in range(epochs):\n",
    "    loop = tqdm(dataloader_train, leave = True)\n",
    "    for batch in loop:\n",
    "        optim.zero_grad()\n",
    "        input_ids = batch[\"input_ids\"].to(device)\n",
    "        mask = batch[\"attention_mask\"].to(device)\n",
    "        labels = batch[\"labels\"].to(device)\n",
    "        outputs = model(input_ids, attention_mask = mask, labels = labels)\n",
    "        loss = outputs.loss\n",
    "        loss.backward()\n",
    "        optim.step()\n",
    "\n",
    "        loop.set_description(f\"Epoch: {epoch}\")\n",
    "        loop.set_postfix(loss = loss.item())"
   ]
  },
  {
   "cell_type": "code",
   "execution_count": null,
   "id": "3f93c2b4",
   "metadata": {},
   "outputs": [],
   "source": [
    "# Testimine\n",
    "\n",
    "dataloader_test = torch.utils.data.DataLoader(prepare_data(test), batch_size = 16)\n",
    "\n",
    "loop2 = tqdm(dataloader_test, leave = True)\n",
    "for batch in loop2:\n",
    "    input_ids = batch[\"input_ids\"].to(device)\n",
    "    outputs = model(input_ids)\n",
    "    # Implementeerida täpsuse leidmine, kui muu kõik töötab"
   ]
  },
  {
   "cell_type": "code",
   "execution_count": 10,
   "id": "2d1ac02b",
   "metadata": {},
   "outputs": [
    {
     "data": {
      "text/plain": [
       "0"
      ]
     },
     "execution_count": 10,
     "metadata": {},
     "output_type": "execute_result"
    }
   ],
   "source": [
    "query = 'Mul ei tule [MASK]'\n",
    "inp = tokenizer(query,return_tensors='pt')\n",
    "mask_loc = np.where(inp.input_ids.numpy()[0] == 4)[0].tolist()[0]\n",
    "out = model(inp[\"input_ids\"]).logits[0].detach().numpy()\n",
    "predicted_tokens = np.argmax(out[mask_loc]).tolist()\n",
    "tokenizer.decode(predicted_tokens)\n",
    "# tokenizer.decode praegu\n"
   ]
  },
  {
   "cell_type": "code",
   "execution_count": 12,
   "id": "93f22c7a",
   "metadata": {},
   "outputs": [
    {
     "data": {
      "text/plain": [
       "{}"
      ]
     },
     "execution_count": 12,
     "metadata": {},
     "output_type": "execute_result"
    }
   ],
   "source": [
    "tokenizer.added_tokens_decoder"
   ]
  },
  {
   "cell_type": "code",
   "execution_count": null,
   "id": "09ed2c0c",
   "metadata": {},
   "outputs": [],
   "source": [
    "model(inp[\"input_ids\"]).logits[0]"
   ]
  },
  {
   "cell_type": "code",
   "execution_count": null,
   "id": "15718e3f",
   "metadata": {},
   "outputs": [],
   "source": [
    "sisend = [id[0] for id in tokenizer('Tallinna [MASK] algatab Paldiski maantee ääres Hotell Tallinna kõrval asuva vundamendiaugu.').input_ids]\n",
    "tokenizer.decode(sisend)\n",
    "tokenizer(\"Tere mina olen keegi\")"
   ]
  },
  {
   "cell_type": "markdown",
   "id": "02c34255",
   "metadata": {},
   "source": [
    "# Küsimused\n",
    "\n",
    "1) Masked LM - õige lähenemine? jah\n",
    "2) Kas peaks vocabi ka ise sisendi põhjal välja töötama? Ise arvan et jah, praegu päris paljud [UNK] teee oma sõnastik  jah\n",
    "\n",
    "fikseerida tühi vorm\n",
    " - tokeniseerija võiks suvalise lemma võtta\n",
    "lausealgus... mida ta sellega teeb? ega ta seda tavalise sõnana ei käsitle?\n",
    "vormi ja lemmat korraga\n",
    "softmax/CE - ennustus tõenäosusteks\n",
    "samas treenida vormi enne ja lemmat pärast samas mudelis\n",
    "loss = CE(V) + CE(L) see ümber kirjutada\n",
    "- attention_mask, mis see on? V: sisuliselt [CLS] lause [SEP] saavad 1 ja [PAD] saab 0\n",
    "teha notebook, mis teeb kogu asja ühe lause peal...\n",
    "stack tracing - iga meetodi erroriga välja kutsuda, et teada kus see tuli\n",
    "\n",
    "claudia kittask, meelis perli, ilmselt pole abi...\n",
    "teises branchis stack tracimine..."
   ]
  }
 ],
 "metadata": {
  "kernelspec": {
   "display_name": "Python 3 (ipykernel)",
   "language": "python",
   "name": "python3"
  },
  "language_info": {
   "codemirror_mode": {
    "name": "ipython",
    "version": 3
   },
   "file_extension": ".py",
   "mimetype": "text/x-python",
   "name": "python",
   "nbconvert_exporter": "python",
   "pygments_lexer": "ipython3",
   "version": "3.8.13"
  }
 },
 "nbformat": 4,
 "nbformat_minor": 5
}
