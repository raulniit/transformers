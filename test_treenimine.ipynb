{
 "cells": [
  {
   "cell_type": "code",
   "execution_count": 1,
   "id": "1090daa8",
   "metadata": {},
   "outputs": [],
   "source": [
    "# Impordid\n",
    "from src.transformers.models.bert.tokenization_bert import BertTokenizer\n",
    "from src.transformers.models.bert.modeling_bert import BertEmbeddings, BertModel, BertForMaskedLM\n",
    "import torch\n",
    "from estnltk import Text\n",
    "from estnltk.corpus_processing.parse_enc import parse_enc_file_iterator\n",
    "from src.transformers.models.bert.configuration_bert import BertConfig\n",
    "from transformers import AdamW\n",
    "from tqdm.auto import tqdm\n",
    "from transformers import pipeline\n",
    "import numpy as np"
   ]
  },
  {
   "cell_type": "code",
   "execution_count": 2,
   "id": "0473ed42",
   "metadata": {},
   "outputs": [],
   "source": [
    "# Tokeniseerija\n",
    "tokenizer = BertTokenizer(vocab_file = \"vocab.txt\", vocab_file_form = \"vocab_form.txt\")"
   ]
  },
  {
   "cell_type": "code",
   "execution_count": 3,
   "id": "1f5ab730",
   "metadata": {},
   "outputs": [
    {
     "name": "stdout",
     "output_type": "stream",
     "text": [
      "CPU times: total: 11.2 s\n",
      "Wall time: 11.5 s\n"
     ]
    }
   ],
   "source": [
    "%%time\n",
    "# Korpus\n",
    "# Loeme tekstid sisse, laseme estnltk-l laused leida ning moodustame lausetest treening- ja testhulga\n",
    "input_file = \"estonian_nc17.vert\"\n",
    "n = 100 # Mitu teksti korpusesse lugeda\n",
    "korpus = []\n",
    "l = 0\n",
    "for text_obj in parse_enc_file_iterator(input_file):\n",
    "    korpus.append(text_obj.text)\n",
    "    if l > n:\n",
    "        break\n",
    "    l += 1\n",
    "\n",
    "tekst = Text(\" \".join(korpus)).tag_layer()\n",
    "laused = []\n",
    "for span in tekst.sentences:\n",
    "    laused.append(tekst.text[span.start:span.end])\n",
    "train =  laused[:int(0.8*len(laused))]\n",
    "test = laused[int(0.8*len(laused)):]"
   ]
  },
  {
   "cell_type": "code",
   "execution_count": 4,
   "id": "784de764",
   "metadata": {},
   "outputs": [],
   "source": [
    "# Dataseti loomine dataloaderi jaoks\n",
    "class Dataset(torch.utils.data.Dataset):\n",
    "    def __init__(self, encodings):\n",
    "        self.encodings = encodings\n",
    "    def __len__(self):\n",
    "        return self.encodings[\"input_ids\"].shape[0]\n",
    "    def __getitem__(self, i):\n",
    "        return {key: tensor[i] for key, tensor in self.encodings.items()}"
   ]
  },
  {
   "cell_type": "code",
   "execution_count": 5,
   "id": "b3379d08",
   "metadata": {},
   "outputs": [],
   "source": [
    "# Maskimine\n",
    "def mlm(tensor):\n",
    "    rand = torch.rand(tensor[:, :, 0].shape)\n",
    "    mask_arr = (rand < 0.15) * (tensor[:, :, 0] > 5) # 15% sõnadest maskitakse\n",
    "    for i in range(tensor[:, :, 0].shape[0]):\n",
    "        selection = torch.flatten(mask_arr[i].nonzero()).tolist()\n",
    "        tensor[i, selection] = 4 # [MASK] tokeni ID mõlemas vocabis\n",
    "    return tensor"
   ]
  },
  {
   "cell_type": "code",
   "execution_count": 6,
   "id": "a9ce39e9",
   "metadata": {},
   "outputs": [],
   "source": [
    "# Andmestiku ettevalmistamine treenimiseks või mudelis kasutamiseks\n",
    "def prepare_data(data):\n",
    "    input_ids = []\n",
    "    mask = []\n",
    "    labels = []\n",
    "    \n",
    "    sample = tokenizer(data, max_length = 8, padding = \"max_length\", truncation = True, return_tensors = \"pt\")\n",
    "    labels.append(sample.input_ids[:, :, 1]) # Labeliks võtame sõnavormi id\n",
    "    mask.append(sample.attention_mask)\n",
    "    input_ids.append(mlm(sample.input_ids.detach().clone()))\n",
    "    \n",
    "    input_ids = torch.cat(input_ids)\n",
    "    mask = torch.cat(mask)\n",
    "    labels = torch.cat(labels)\n",
    "    \n",
    "    encodings = {\n",
    "    \"input_ids\" : input_ids,\n",
    "    \"attention_mask\" : mask,\n",
    "    \"labels\" : labels\n",
    "    }\n",
    "    \n",
    "    dataset = Dataset(encodings)\n",
    "    return dataset\n",
    "\n",
    "\n",
    "# Dataloaderi loomine mudeli treenimiseks\n",
    "dataloader_train = torch.utils.data.DataLoader(prepare_data(train), batch_size = 16, shuffle = True)"
   ]
  },
  {
   "cell_type": "code",
   "execution_count": 7,
   "id": "6a338193",
   "metadata": {},
   "outputs": [
    {
     "name": "stderr",
     "output_type": "stream",
     "text": [
      "C:\\Users\\rauln\\anaconda3\\envs\\EKTP\\lib\\site-packages\\transformers\\optimization.py:306: FutureWarning: This implementation of AdamW is deprecated and will be removed in a future version. Use the PyTorch implementation torch.optim.AdamW instead, or set `no_deprecation_warning=True` to disable this warning\n",
      "  warnings.warn(\n"
     ]
    },
    {
     "data": {
      "application/vnd.jupyter.widget-view+json": {
       "model_id": "1b2ad0a66b9744e99b65c06d173af691",
       "version_major": 2,
       "version_minor": 0
      },
      "text/plain": [
       "  0%|          | 0/55 [00:00<?, ?it/s]"
      ]
     },
     "metadata": {},
     "output_type": "display_data"
    },
    {
     "data": {
      "application/vnd.jupyter.widget-view+json": {
       "model_id": "14e8131076b84bd19da27455d4e84f1a",
       "version_major": 2,
       "version_minor": 0
      },
      "text/plain": [
       "  0%|          | 0/55 [00:00<?, ?it/s]"
      ]
     },
     "metadata": {},
     "output_type": "display_data"
    },
    {
     "data": {
      "application/vnd.jupyter.widget-view+json": {
       "model_id": "b630952c1c084551b9476d9e1e9eddf6",
       "version_major": 2,
       "version_minor": 0
      },
      "text/plain": [
       "  0%|          | 0/55 [00:00<?, ?it/s]"
      ]
     },
     "metadata": {},
     "output_type": "display_data"
    },
    {
     "name": "stdout",
     "output_type": "stream",
     "text": [
      "CPU times: total: 33min 10s\n",
      "Wall time: 4min 10s\n"
     ]
    }
   ],
   "source": [
    "%%time\n",
    "# Mudeli treenimine\n",
    "\n",
    "config = BertConfig(\n",
    "    vocab_size = tokenizer.vocab_size,\n",
    "    vocab_size_form = tokenizer.vocab_size_form,\n",
    "    tie_word_embeddings = False\n",
    ")\n",
    "\n",
    "model = BertForMaskedLM(config)\n",
    "device = torch.device(\"cuda\") if torch.cuda.is_available() else torch.device(\"cpu\")\n",
    "\n",
    "model.to(device)\n",
    "optim = AdamW(model.parameters(), lr = 1e-4)\n",
    "epochs = 3\n",
    "\n",
    "for epoch in range(epochs):\n",
    "    loop = tqdm(dataloader_train, leave = True)\n",
    "    for batch in loop:\n",
    "        optim.zero_grad()\n",
    "        input_ids = batch[\"input_ids\"].to(device)\n",
    "        mask = batch[\"attention_mask\"].to(device)\n",
    "        labels = batch[\"labels\"].to(device)\n",
    "        outputs = model(input_ids, attention_mask = mask, labels = labels)\n",
    "        loss = outputs.loss\n",
    "        loss.backward()\n",
    "        optim.step()\n",
    "\n",
    "        loop.set_description(f\"Epoch: {epoch}\")\n",
    "        loop.set_postfix(loss = loss.item())"
   ]
  },
  {
   "cell_type": "code",
   "execution_count": 8,
   "id": "3f93c2b4",
   "metadata": {},
   "outputs": [
    {
     "data": {
      "application/vnd.jupyter.widget-view+json": {
       "model_id": "46836e648bea44efaca54bbbb0cddd5e",
       "version_major": 2,
       "version_minor": 0
      },
      "text/plain": [
       "  0%|          | 0/14 [00:00<?, ?it/s]"
      ]
     },
     "metadata": {},
     "output_type": "display_data"
    }
   ],
   "source": [
    "# Testimine\n",
    "\n",
    "dataloader_test = torch.utils.data.DataLoader(prepare_data(test), batch_size = 16)\n",
    "\n",
    "loop2 = tqdm(dataloader_test, leave = True)\n",
    "for batch in loop2:\n",
    "    input_ids = batch[\"input_ids\"].to(device)\n",
    "    outputs = model(input_ids)\n",
    "    # Implementeerida täpsuse leidmine, kui muu kõik töötab"
   ]
  },
  {
   "cell_type": "code",
   "execution_count": 9,
   "id": "21fe93f7",
   "metadata": {},
   "outputs": [
    {
     "data": {
      "text/plain": [
       "tensor([[ 0.3600,  2.9466, 14.8121,  ...,  0.0407, -0.6803, -0.3687],\n",
       "        [ 1.7117,  2.6505,  0.2391,  ..., -1.2733, -0.9795, -1.7471],\n",
       "        [ 4.9232,  2.9751, -0.6083,  ..., -0.8428, -0.2051, -1.3303],\n",
       "        ...,\n",
       "        [ 2.6288,  3.2083,  2.5195,  ..., -0.9176, -1.8177, -1.1489],\n",
       "        [ 2.1902,  2.3576, -0.0580,  ..., -1.1242, -0.4858, -0.7187],\n",
       "        [ 2.4641,  1.6400,  0.1693,  ..., -0.6845, -1.1551, -0.1845]],\n",
       "       grad_fn=<SelectBackward0>)"
      ]
     },
     "execution_count": 9,
     "metadata": {},
     "output_type": "execute_result"
    }
   ],
   "source": [
    "outputs.logits[0]"
   ]
  },
  {
   "cell_type": "code",
   "execution_count": 19,
   "id": "2d1ac02b",
   "metadata": {},
   "outputs": [
    {
     "data": {
      "text/plain": [
       "'# # l a'"
      ]
     },
     "execution_count": 19,
     "metadata": {},
     "output_type": "execute_result"
    }
   ],
   "source": [
    "query = 'Tallinna [MASK] algatab Paldiski maantee ääres Hotell Tallinna kõrval asuva vundamendiaugu.'\n",
    "inp = tokenizer(query,return_tensors='pt')\n",
    "mask_loc = np.where(inp.input_ids.numpy()[0] == 4)[0].tolist()[0]\n",
    "out = model(inp[\"input_ids\"]).logits[0].detach().numpy()\n",
    "predicted_tokens = np.argmax(out[mask_loc]).tolist()\n",
    "tokenizer.decode(predicted_tokens)\n",
    "# tokenizer.decode praegu "
   ]
  },
  {
   "cell_type": "code",
   "execution_count": 24,
   "id": "15718e3f",
   "metadata": {},
   "outputs": [
    {
     "data": {
      "text/plain": [
       "'[CLS] tallinna [MASK] [UNK] [UNK] maantee ääres hotell tallinna kõrval asuv [UNK]. [SEP]'"
      ]
     },
     "execution_count": 24,
     "metadata": {},
     "output_type": "execute_result"
    }
   ],
   "source": [
    "sisend = [id[0] for id in tokenizer('Tallinna [MASK] algatab Paldiski maantee ääres Hotell Tallinna kõrval asuva vundamendiaugu.').input_ids]\n",
    "tokenizer.decode(sisend)"
   ]
  },
  {
   "cell_type": "markdown",
   "id": "eca643e6",
   "metadata": {},
   "source": [
    "# Küsimused\n",
    "\n",
    "1) Masked LM - õige lähenemine?\n",
    "2) Kas peaks vocabi ka ise sisendi põhjal välja töötama? Ise arvan et jah, praegu päris paljud [UNK]\n"
   ]
  }
 ],
 "metadata": {
  "kernelspec": {
   "display_name": "Python 3 (ipykernel)",
   "language": "python",
   "name": "python3"
  },
  "language_info": {
   "codemirror_mode": {
    "name": "ipython",
    "version": 3
   },
   "file_extension": ".py",
   "mimetype": "text/x-python",
   "name": "python",
   "nbconvert_exporter": "python",
   "pygments_lexer": "ipython3",
   "version": "3.8.13"
  }
 },
 "nbformat": 4,
 "nbformat_minor": 5
}
