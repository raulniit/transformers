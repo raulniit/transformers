{
 "cells": [
  {
   "cell_type": "code",
   "execution_count": 257,
   "id": "1090daa8",
   "metadata": {},
   "outputs": [],
   "source": [
    "# Impordid\n",
    "from src.transformers.models.bert.tokenization_bert import BertTokenizer\n",
    "from src.transformers.models.bert.modeling_bert import BertEmbeddings, BertModel, BertForMaskedLM\n",
    "import torch\n",
    "from estnltk import Text\n",
    "from estnltk.corpus_processing.parse_enc import parse_enc_file_iterator\n",
    "from src.transformers.models.bert.configuration_bert import BertConfig\n",
    "from transformers import AdamW\n",
    "from tqdm.auto import tqdm\n",
    "from transformers import pipeline\n",
    "import numpy as np"
   ]
  },
  {
   "cell_type": "code",
   "execution_count": 258,
   "id": "0473ed42",
   "metadata": {},
   "outputs": [],
   "source": [
    "# Tokeniseerija\n",
    "tokenizer = BertTokenizer(vocab_file = \"vocab2.txt\", vocab_file_form = \"vocab_form.txt\")"
   ]
  },
  {
   "cell_type": "code",
   "execution_count": 259,
   "id": "1f5ab730",
   "metadata": {},
   "outputs": [
    {
     "name": "stdout",
     "output_type": "stream",
     "text": [
      "CPU times: total: 11.2 s\n",
      "Wall time: 11.2 s\n"
     ]
    }
   ],
   "source": [
    "%%time\n",
    "# Korpus\n",
    "# Loeme tekstid sisse, laseme estnltk-l laused leida ning moodustame lausetest treening- ja testhulga\n",
    "input_file = \"estonian_nc17.vert\"\n",
    "n = 100 # Mitu teksti korpusesse lugeda\n",
    "korpus = []\n",
    "l = 0\n",
    "for text_obj in parse_enc_file_iterator(input_file):\n",
    "    korpus.append(text_obj.text)\n",
    "    if l > n:\n",
    "        break\n",
    "    l += 1\n",
    "\n",
    "tekst = Text(\" \".join(korpus)).tag_layer()\n",
    "laused = []\n",
    "for span in tekst.sentences:\n",
    "    laused.append(tekst.text[span.start:span.end])\n",
    "train =  laused[:int(0.8*len(laused))]\n",
    "test = laused[int(0.8*len(laused)):]"
   ]
  },
  {
   "cell_type": "code",
   "execution_count": 260,
   "id": "784de764",
   "metadata": {},
   "outputs": [],
   "source": [
    "# Dataseti loomine dataloaderi jaoks\n",
    "class Dataset(torch.utils.data.Dataset):\n",
    "    def __init__(self, encodings):\n",
    "        self.encodings = encodings\n",
    "    def __len__(self):\n",
    "        return self.encodings[\"input_ids\"].shape[0]\n",
    "    def __getitem__(self, i):\n",
    "        return {key: tensor[i] for key, tensor in self.encodings.items()}"
   ]
  },
  {
   "cell_type": "code",
   "execution_count": 261,
   "id": "023e8ec8",
   "metadata": {},
   "outputs": [],
   "source": [
    "sample = tokenizer(train[0:2], max_length = 8, padding = \"max_length\", truncation = True, return_tensors = \"pt\")\n",
    "tensor = sample.input_ids.detach().clone()\n",
    "labels = tensor.detach().clone()\n",
    "rand = torch.rand(tensor[:, :, 0].shape)\n",
    "mask_arr = (rand < 0.15) * (tensor[:, :, 0] > 5)\n",
    "for i in range(tensor[:, :, 0].shape[0]):\n",
    "    selection = torch.flatten(mask_arr[i].nonzero()).tolist()\n",
    "    selection_masked = torch.where(mask_arr[i] == 0)[0].tolist()\n",
    "    tensor[i, selection] = 4 # [MASK] tokeni ID mõlemas vocabis\n",
    "    labels[i, selection_masked] = -100 # Et mudel arvutaks lossi ainult masked tokenite pealt"
   ]
  },
  {
   "cell_type": "code",
   "execution_count": 262,
   "id": "b3379d08",
   "metadata": {},
   "outputs": [],
   "source": [
    "# Maskimine ja labelid\n",
    "def mlm(tensor):\n",
    "    labels = tensor.detach().clone()\n",
    "    rand = torch.rand(tensor[:, :, 0].shape)\n",
    "    mask_arr = (rand < 0.15) * (tensor[:, :, 0] > 5)\n",
    "    for i in range(tensor[:, :, 0].shape[0]):\n",
    "        selection = torch.flatten(mask_arr[i].nonzero()).tolist()\n",
    "        selection_masked = torch.where(mask_arr[i] == 0)[0].tolist()\n",
    "        tensor[i, selection] = 4 # [MASK] tokeni ID mõlemas vocabis\n",
    "        labels[i, selection_masked] = -100 # Et mudel arvutaks lossi ainult masked tokenite pealt\n",
    "        \n",
    "    return tensor, labels"
   ]
  },
  {
   "cell_type": "code",
   "execution_count": 263,
   "id": "a9ce39e9",
   "metadata": {},
   "outputs": [],
   "source": [
    "# Andmestiku ettevalmistamine treenimiseks või mudelis kasutamiseks\n",
    "def prepare_data(data):\n",
    "    input_ids = []\n",
    "    mask = []\n",
    "    labels = []\n",
    "    \n",
    "    sample = tokenizer(data, max_length = 8, padding = \"max_length\", truncation = True, return_tensors = \"pt\")\n",
    "    new_ids, new_labels = mlm(sample.input_ids.detach().clone())\n",
    "    input_ids.append(new_ids)\n",
    "    mask.append(sample.attention_mask)\n",
    "    labels.append(new_labels[:, :, 1]) # Labeliks võtame sõnavormi id\n",
    "    \n",
    "    \n",
    "    input_ids = torch.cat(input_ids)\n",
    "    mask = torch.cat(mask)\n",
    "    labels = torch.cat(labels)\n",
    "    \n",
    "    encodings = {\n",
    "    \"input_ids\" : input_ids,\n",
    "    \"attention_mask\" : mask,\n",
    "    \"labels\" : labels\n",
    "    }\n",
    "    \n",
    "    dataset = Dataset(encodings)\n",
    "    return dataset\n",
    "\n",
    "\n",
    "# Dataloaderi loomine mudeli treenimiseks\n",
    "dataloader_train = torch.utils.data.DataLoader(prepare_data(train), batch_size = 16, shuffle = True)"
   ]
  },
  {
   "cell_type": "code",
   "execution_count": 269,
   "id": "6a338193",
   "metadata": {},
   "outputs": [
    {
     "data": {
      "application/vnd.jupyter.widget-view+json": {
       "model_id": "ebdf9c93ed494d9690c799ffade87631",
       "version_major": 2,
       "version_minor": 0
      },
      "text/plain": [
       "  0%|          | 0/55 [00:00<?, ?it/s]"
      ]
     },
     "metadata": {},
     "output_type": "display_data"
    },
    {
     "data": {
      "application/vnd.jupyter.widget-view+json": {
       "model_id": "bc189277072942e8932a26715cee9cd2",
       "version_major": 2,
       "version_minor": 0
      },
      "text/plain": [
       "  0%|          | 0/55 [00:00<?, ?it/s]"
      ]
     },
     "metadata": {},
     "output_type": "display_data"
    },
    {
     "data": {
      "application/vnd.jupyter.widget-view+json": {
       "model_id": "78b1ff68ae7545ce81518640e55f869c",
       "version_major": 2,
       "version_minor": 0
      },
      "text/plain": [
       "  0%|          | 0/55 [00:00<?, ?it/s]"
      ]
     },
     "metadata": {},
     "output_type": "display_data"
    },
    {
     "data": {
      "application/vnd.jupyter.widget-view+json": {
       "model_id": "b65685a6e0d547c1aadd8f3b3b586e19",
       "version_major": 2,
       "version_minor": 0
      },
      "text/plain": [
       "  0%|          | 0/55 [00:00<?, ?it/s]"
      ]
     },
     "metadata": {},
     "output_type": "display_data"
    },
    {
     "data": {
      "application/vnd.jupyter.widget-view+json": {
       "model_id": "fbcba9f5aefd4a26aa905ef12f4e8768",
       "version_major": 2,
       "version_minor": 0
      },
      "text/plain": [
       "  0%|          | 0/55 [00:00<?, ?it/s]"
      ]
     },
     "metadata": {},
     "output_type": "display_data"
    },
    {
     "data": {
      "application/vnd.jupyter.widget-view+json": {
       "model_id": "d22b65f5d61c4c7b8c3690ceca0c8755",
       "version_major": 2,
       "version_minor": 0
      },
      "text/plain": [
       "  0%|          | 0/55 [00:00<?, ?it/s]"
      ]
     },
     "metadata": {},
     "output_type": "display_data"
    },
    {
     "data": {
      "application/vnd.jupyter.widget-view+json": {
       "model_id": "e3a942a07c6749a0ba791ad5326e091f",
       "version_major": 2,
       "version_minor": 0
      },
      "text/plain": [
       "  0%|          | 0/55 [00:00<?, ?it/s]"
      ]
     },
     "metadata": {},
     "output_type": "display_data"
    },
    {
     "data": {
      "application/vnd.jupyter.widget-view+json": {
       "model_id": "6035733917374866996009b680bd1765",
       "version_major": 2,
       "version_minor": 0
      },
      "text/plain": [
       "  0%|          | 0/55 [00:00<?, ?it/s]"
      ]
     },
     "metadata": {},
     "output_type": "display_data"
    },
    {
     "data": {
      "application/vnd.jupyter.widget-view+json": {
       "model_id": "5cc2e7dcae934a618cbdb7ee59c5c31a",
       "version_major": 2,
       "version_minor": 0
      },
      "text/plain": [
       "  0%|          | 0/55 [00:00<?, ?it/s]"
      ]
     },
     "metadata": {},
     "output_type": "display_data"
    },
    {
     "data": {
      "application/vnd.jupyter.widget-view+json": {
       "model_id": "562110a42b574fc78cc0d839fbb48090",
       "version_major": 2,
       "version_minor": 0
      },
      "text/plain": [
       "  0%|          | 0/55 [00:00<?, ?it/s]"
      ]
     },
     "metadata": {},
     "output_type": "display_data"
    },
    {
     "name": "stdout",
     "output_type": "stream",
     "text": [
      "CPU times: total: 1h 56min 38s\n",
      "Wall time: 14min 36s\n"
     ]
    }
   ],
   "source": [
    "%%time\n",
    "# Mudeli treenimine\n",
    "\n",
    "config = BertConfig(\n",
    "    vocab_size = tokenizer.vocab_size,\n",
    "    vocab_size_form = tokenizer.vocab_size_form,\n",
    "    tie_word_embeddings = False\n",
    ")\n",
    "\n",
    "model = BertForMaskedLM(config)\n",
    "device = torch.device(\"cuda\") if torch.cuda.is_available() else torch.device(\"cpu\")\n",
    "\n",
    "model.to(device)\n",
    "optim = AdamW(model.parameters(), lr = 1e-4)\n",
    "epochs = 10\n",
    "\n",
    "for epoch in range(epochs):\n",
    "    loop = tqdm(dataloader_train, leave = True)\n",
    "    for batch in loop:\n",
    "        optim.zero_grad()\n",
    "        input_ids = batch[\"input_ids\"].to(device)\n",
    "        mask = batch[\"attention_mask\"].to(device)\n",
    "        labels = batch[\"labels\"].to(device)\n",
    "        outputs = model(input_ids, attention_mask = mask, labels = labels)\n",
    "        loss = outputs.loss\n",
    "        loss.backward()\n",
    "        optim.step()\n",
    "\n",
    "        loop.set_description(f\"Epoch: {epoch}\")\n",
    "        loop.set_postfix(loss = loss.item())"
   ]
  },
  {
   "cell_type": "code",
   "execution_count": 270,
   "id": "3f93c2b4",
   "metadata": {},
   "outputs": [
    {
     "data": {
      "application/vnd.jupyter.widget-view+json": {
       "model_id": "7800e16b61d64f26a0d96296dcc35258",
       "version_major": 2,
       "version_minor": 0
      },
      "text/plain": [
       "  0%|          | 0/55 [00:00<?, ?it/s]"
      ]
     },
     "metadata": {},
     "output_type": "display_data"
    }
   ],
   "source": [
    "# Testimine\n",
    "dataloader_test = torch.utils.data.DataLoader(prepare_data(train), batch_size = 16)\n",
    "kokku_labelid = np.array([-1])\n",
    "kokku_ennustused = np.array([-1])\n",
    "loop2 = tqdm(dataloader_test, leave = True)\n",
    "for batch in loop2:\n",
    "    input_ids = batch[\"input_ids\"].to(device)\n",
    "    labels = batch[\"labels\"]\n",
    "    outputs = model(input_ids)\n",
    "    indeksid = np.where(input_ids[:, :, 0].flatten() == 4)\n",
    "    labelid = labels.flatten()[indeksid].detach().numpy()\n",
    "    ennustused = np.argmax(outputs.logits.flatten(end_dim = 1)[indeksid].detach().numpy(), axis = 1)\n",
    "    kokku_labelid = np.concatenate((labelid, kokku_labelid))\n",
    "    kokku_ennustused = np.concatenate((ennustused, kokku_ennustused))"
   ]
  },
  {
   "cell_type": "code",
   "execution_count": 271,
   "id": "aedacd46",
   "metadata": {},
   "outputs": [
    {
     "data": {
      "text/plain": [
       "0.24963072378138848"
      ]
     },
     "execution_count": 271,
     "metadata": {},
     "output_type": "execute_result"
    }
   ],
   "source": [
    "sum(kokku_ennustused[:-1] == kokku_labelid[:-1])/len(kokku_labelid)"
   ]
  },
  {
   "cell_type": "code",
   "execution_count": 268,
   "id": "2262fbd9",
   "metadata": {},
   "outputs": [
    {
     "data": {
      "text/plain": [
       "{'input_ids': tensor([[[    2,     2],\n",
       "          [    1,    34],\n",
       "          [    7,    90],\n",
       "          [  309,    30],\n",
       "          [    1,    30],\n",
       "          [ 6357,    34],\n",
       "          [    4,     4],\n",
       "          [    3,     3]],\n",
       " \n",
       "         [[    2,     2],\n",
       "          [    1,    32],\n",
       "          [  478,    82],\n",
       "          [    1,    34],\n",
       "          [   24,     1],\n",
       "          [ 1953,     5],\n",
       "          [   23,     1],\n",
       "          [    3,     3]],\n",
       " \n",
       "         [[    2,     2],\n",
       "          [    1,    34],\n",
       "          [  704,    90],\n",
       "          [    1,    25],\n",
       "          [ 1189,    56],\n",
       "          [    1,     5],\n",
       "          [  562,    35],\n",
       "          [    3,     3]],\n",
       " \n",
       "         [[    2,     2],\n",
       "          [    1,    34],\n",
       "          [  235,    53],\n",
       "          [  544,    32],\n",
       "          [27474,    30],\n",
       "          [    8,     1],\n",
       "          [ 4956,    30],\n",
       "          [    3,     3]],\n",
       " \n",
       "         [[    2,     2],\n",
       "          [ 1969,    34],\n",
       "          [   28,    90],\n",
       "          [  477,     1],\n",
       "          [    1,    35],\n",
       "          [  145,    30],\n",
       "          [   47,    35],\n",
       "          [    3,     3]],\n",
       " \n",
       "         [[    2,     2],\n",
       "          [ 2328,    30],\n",
       "          [    8,     1],\n",
       "          [    4,     4],\n",
       "          [ 1460,    34],\n",
       "          [    7,   108],\n",
       "          [  850,    82],\n",
       "          [    3,     3]],\n",
       " \n",
       "         [[    2,     2],\n",
       "          [ 9098,    30],\n",
       "          [    4,     4],\n",
       "          [    7,   108],\n",
       "          [   19,    82],\n",
       "          [ 2657,    34],\n",
       "          [ 5408,    50],\n",
       "          [    3,     3]]]),\n",
       " 'attention_mask': tensor([[1, 1, 1, 1, 1, 1, 1, 1],\n",
       "         [1, 1, 1, 1, 1, 1, 1, 1],\n",
       "         [1, 1, 1, 1, 1, 1, 1, 1],\n",
       "         [1, 1, 1, 1, 1, 1, 1, 1],\n",
       "         [1, 1, 1, 1, 1, 1, 1, 1],\n",
       "         [1, 1, 1, 1, 1, 1, 1, 1],\n",
       "         [1, 1, 1, 1, 1, 1, 1, 1]]),\n",
       " 'labels': tensor([[-100, -100, -100, -100, -100, -100,   34, -100],\n",
       "         [-100, -100, -100, -100, -100, -100, -100, -100],\n",
       "         [-100, -100, -100, -100, -100, -100, -100, -100],\n",
       "         [-100, -100, -100, -100, -100, -100, -100, -100],\n",
       "         [-100, -100, -100, -100, -100, -100, -100, -100],\n",
       "         [-100, -100, -100,   30, -100, -100, -100, -100],\n",
       "         [-100, -100,   37, -100, -100, -100, -100, -100]])}"
      ]
     },
     "execution_count": 268,
     "metadata": {},
     "output_type": "execute_result"
    }
   ],
   "source": [
    "batch"
   ]
  },
  {
   "cell_type": "code",
   "execution_count": 86,
   "id": "2d1ac02b",
   "metadata": {},
   "outputs": [
    {
     "data": {
      "text/plain": [
       "'b'"
      ]
     },
     "execution_count": 86,
     "metadata": {},
     "output_type": "execute_result"
    }
   ],
   "source": [
    "query = 'Mul [MASK] und'\n",
    "inp = tokenizer(query,return_tensors='pt')\n",
    "mask_loc = np.where(inp.input_ids.numpy()[0] == 4)[0].tolist()[0]\n",
    "out = model(inp[\"input_ids\"]).logits[0].detach().numpy()\n",
    "predicted_tokens = np.argmax(out[mask_loc]).tolist()\n",
    "tokenizer.decode(predicted_tokens, return_form = True)\n",
    "# tokenizer.decode praegu\n"
   ]
  },
  {
   "cell_type": "code",
   "execution_count": 12,
   "id": "93f22c7a",
   "metadata": {},
   "outputs": [
    {
     "data": {
      "text/plain": [
       "{}"
      ]
     },
     "execution_count": 12,
     "metadata": {},
     "output_type": "execute_result"
    }
   ],
   "source": [
    "tokenizer.added_tokens_decoder"
   ]
  },
  {
   "cell_type": "code",
   "execution_count": null,
   "id": "09ed2c0c",
   "metadata": {},
   "outputs": [],
   "source": [
    "model(inp[\"input_ids\"]).logits[0]"
   ]
  },
  {
   "cell_type": "code",
   "execution_count": null,
   "id": "15718e3f",
   "metadata": {},
   "outputs": [],
   "source": [
    "sisend = [id[0] for id in tokenizer('Tallinna [MASK] algatab Paldiski maantee ääres Hotell Tallinna kõrval asuva vundamendiaugu.').input_ids]\n",
    "tokenizer.decode(sisend)\n",
    "tokenizer(\"Tere mina olen keegi\")"
   ]
  },
  {
   "cell_type": "markdown",
   "id": "02c34255",
   "metadata": {},
   "source": [
    "# Küsimused\n",
    "\n",
    "1) Masked LM - õige lähenemine? jah\n",
    "2) Kas peaks vocabi ka ise sisendi põhjal välja töötama? Ise arvan et jah, praegu päris paljud [UNK] teee oma sõnastik  jah\n",
    "\n",
    "fikseerida tühi vorm\n",
    " - tokeniseerija võiks suvalise lemma võtta\n",
    "lausealgus... mida ta sellega teeb? ega ta seda tavalise sõnana ei käsitle?\n",
    "vormi ja lemmat korraga\n",
    "softmax/CE - ennustus tõenäosusteks\n",
    "samas treenida vormi enne ja lemmat pärast samas mudelis\n",
    "loss = CE(V) + CE(L) see ümber kirjutada\n",
    "- attention_mask, mis see on? V: sisuliselt [CLS] lause [SEP] saavad 1 ja [PAD] saab 0\n",
    "teha notebook, mis teeb kogu asja ühe lause peal...\n",
    "stack tracing - iga meetodi erroriga välja kutsuda, et teada kus see tuli\n",
    "\n",
    "claudia kittask, meelis perli, ilmselt pole abi...\n",
    "teises branchis stack tracimine..."
   ]
  }
 ],
 "metadata": {
  "kernelspec": {
   "display_name": "Python 3 (ipykernel)",
   "language": "python",
   "name": "python3"
  },
  "language_info": {
   "codemirror_mode": {
    "name": "ipython",
    "version": 3
   },
   "file_extension": ".py",
   "mimetype": "text/x-python",
   "name": "python",
   "nbconvert_exporter": "python",
   "pygments_lexer": "ipython3",
   "version": "3.8.13"
  }
 },
 "nbformat": 4,
 "nbformat_minor": 5
}
